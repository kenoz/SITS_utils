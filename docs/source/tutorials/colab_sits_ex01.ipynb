{
 "cells": [
  {
   "cell_type": "markdown",
   "metadata": {},
   "source": [
    "# **The basics**"
   ]
  },
  {
   "cell_type": "markdown",
   "metadata": {},
   "source": [
    "[![Open In Colab](https://colab.research.google.com/assets/colab-badge.svg)](https://colab.research.google.com/github/kenoz/SITS_utils/blob/main/docs/source/tutorials/colab_sits_ex01.ipynb)"
   ]
  },
  {
   "cell_type": "markdown",
   "metadata": {
    "id": "K2FIkbDYrq9l"
   },
   "source": [
    "---\n",
    "\n",
    "We aim to follow the **geomorphological evolution** of the **Banc d'Arguin**.\n",
    "\n",
    "> _\"The Banc d'Arguin is a sandbank about 4 km long and 2 km wide at low tide. The bank is more or less visible depending on the state of the tide. In addition, under the action of sea currents, tides and wind, it continually changes shape and location. It is located opposite the entrance to the Arcachon basin, between the Dune du Pilat and the tip of Cap Ferret\"_ (source: [wikipedia](https://fr.wikipedia.org/wiki/R%C3%A9serve_naturelle_nationale_du_Banc-d%27Arguin)).\n",
    "\n",
    "<p align=\"center\"><img src=\"https://upload.wikimedia.org/wikipedia/commons/thumb/4/4e/Parc_naturel_marin_du_bassin_d%27Arcachon_vu_du_ciel_-_Banc_d%27Arguin_%281%29.JPG/1280px-Parc_naturel_marin_du_bassin_d%27Arcachon_vu_du_ciel_-_Banc_d%27Arguin_%281%29.JPG\" alt=\"Banc d'Arguin\" width=\"600\"></p>\n",
    "<p align=\"center\"><sup>Arcachon Basin Marine Natural Park seen from the sky, from a light aircraft Tecnam P2002 (&copy; Dorian Bentejac)</sup></p>\n",
    "We have a vector file that gives the position of this sandy shape. We will use it to retrieve a time series of satellite images, i.e. Sentinel-2, made available through a STAC catalog (i.e. Microsoft Planetary).\n",
    "Then we will apply a cloud mask on each frame and replace the nodata values by temporal interpolation (i.e. gap-filling).\n",
    "Finally we will export the results in the form of animated gif.\n",
    "\n",
    "---\n",
    "\n",
    "## 1. Installation of SITS package and its depedencies\n",
    "\n",
    "First, install `sits` package with [pip](https://pypi.org/project/SITS/). We also need some other packages for displaying data."
   ]
  },
  {
   "cell_type": "code",
   "execution_count": 1,
   "metadata": {
    "id": "xoL6NstiVcp9"
   },
   "outputs": [],
   "source": [
    "# SITS package\n",
    "!pip install -q --upgrade sits\n",
    "\n",
    "# other packages\n",
    "!pip install -q mapclassify\n",
    "#!pip install -q folium\n",
    "#!pip install -q matplotlib"
   ]
  },
  {
   "cell_type": "markdown",
   "metadata": {
    "id": "OYAb0l91zqj4"
   },
   "source": [
    "Now we can import `sits` and some other libraries."
   ]
  },
  {
   "cell_type": "code",
   "execution_count": null,
   "metadata": {
    "executionInfo": {
     "elapsed": 8932,
     "status": "ok",
     "timestamp": 1737993800099,
     "user": {
      "displayName": "Kenji Ose",
      "userId": "04036279333112259084"
     },
     "user_tz": -60
    },
    "id": "neqafgGHWIkj"
   },
   "outputs": [],
   "source": [
    "import os\n",
    "# sits lib\n",
    "from sits import sits, export\n",
    "# geospatial libs\n",
    "import geopandas as gpd\n",
    "import pandas as pd\n",
    "# date format\n",
    "from datetime import datetime\n",
    "# ignore warnings messages\n",
    "import warnings\n",
    "warnings.filterwarnings('ignore') "
   ]
  },
  {
   "cell_type": "markdown",
   "metadata": {
    "id": "o4n__qxr0Kqi"
   },
   "source": [
    "## 2. Handling the input vector file\n",
    "\n",
    "### 2.1. Data loading\n",
    "\n",
    "The geojson vector file describing the position of the sandbank is stored in the [Github repository](https://github.com/kenoz/SITS_utils). We download it into our current workspace.  "
   ]
  },
  {
   "cell_type": "code",
   "execution_count": 3,
   "metadata": {
    "executionInfo": {
     "elapsed": 218,
     "status": "ok",
     "timestamp": 1737993800315,
     "user": {
      "displayName": "Kenji Ose",
      "userId": "04036279333112259084"
     },
     "user_tz": -60
    },
    "id": "soIORtc8bGDd"
   },
   "outputs": [],
   "source": [
    "!mkdir -p test_data\n",
    "![ ! -f test_data/banc_arguin.geojson ] && wget https://raw.githubusercontent.com/kenoz/SITS_utils/refs/heads/main/sits/data/banc_arguin.geojson -P test_data"
   ]
  },
  {
   "cell_type": "markdown",
   "metadata": {
    "id": "n0jbqcwQ1ppL"
   },
   "source": [
    "We load the vector file, named `banc_arguin.geojson`, as a geoDataFrame object with the `sits` method: `sits.Vec2gdf()`."
   ]
  },
  {
   "cell_type": "code",
   "execution_count": 4,
   "metadata": {
    "colab": {
     "base_uri": "https://localhost:8080/",
     "height": 81
    },
    "executionInfo": {
     "elapsed": 697,
     "status": "ok",
     "timestamp": 1737993801010,
     "user": {
      "displayName": "Kenji Ose",
      "userId": "04036279333112259084"
     },
     "user_tz": -60
    },
    "id": "7MWDWpr7nxB3",
    "outputId": "cd939689-bad7-4b42-d469-a1a34f6a69ef",
    "tags": []
   },
   "outputs": [
    {
     "data": {
      "text/html": [
       "<div>\n",
       "<style scoped>\n",
       "    .dataframe tbody tr th:only-of-type {\n",
       "        vertical-align: middle;\n",
       "    }\n",
       "\n",
       "    .dataframe tbody tr th {\n",
       "        vertical-align: top;\n",
       "    }\n",
       "\n",
       "    .dataframe thead th {\n",
       "        text-align: right;\n",
       "    }\n",
       "</style>\n",
       "<table border=\"1\" class=\"dataframe\">\n",
       "  <thead>\n",
       "    <tr style=\"text-align: right;\">\n",
       "      <th></th>\n",
       "      <th>id</th>\n",
       "      <th>id_poly</th>\n",
       "      <th>geometry</th>\n",
       "    </tr>\n",
       "  </thead>\n",
       "  <tbody>\n",
       "    <tr>\n",
       "      <th>0</th>\n",
       "      <td>1</td>\n",
       "      <td>1</td>\n",
       "      <td>MULTIPOLYGON (((-1.27422 44.63147, -1.19528 44...</td>\n",
       "    </tr>\n",
       "  </tbody>\n",
       "</table>\n",
       "</div>"
      ],
      "text/plain": [
       "   id  id_poly                                           geometry\n",
       "0   1        1  MULTIPOLYGON (((-1.27422 44.63147, -1.19528 44..."
      ]
     },
     "execution_count": 4,
     "metadata": {},
     "output_type": "execute_result"
    }
   ],
   "source": [
    "data_dir = 'test_data'\n",
    "v_arguin = sits.Vec2gdf(os.path.join(data_dir, 'banc_arguin.geojson'))\n",
    "v_arguin.gdf"
   ]
  },
  {
   "cell_type": "markdown",
   "metadata": {
    "id": "ipDQq-9jqWjo"
   },
   "source": [
    "### 2.2. Bounding box calculation\n",
    "\n",
    "We check the coordinate reference system (CRS) and calculate the bounding box with the method `set_bbox()` of class `sits.Vec2gdf`."
   ]
  },
  {
   "cell_type": "code",
   "execution_count": 5,
   "metadata": {
    "colab": {
     "base_uri": "https://localhost:8080/"
    },
    "executionInfo": {
     "elapsed": 5,
     "status": "ok",
     "timestamp": 1737993801010,
     "user": {
      "displayName": "Kenji Ose",
      "userId": "04036279333112259084"
     },
     "user_tz": -60
    },
    "id": "1Godd47g2qoL",
    "outputId": "c67ec24c-8038-4baf-ab67-5bed6bcad0ba"
   },
   "outputs": [
    {
     "name": "stdout",
     "output_type": "stream",
     "text": [
      "epsg code for 'v_arguin.gdf':  4326\n",
      "epsg code for 'v_arguin.bbox': 4326\n"
     ]
    }
   ],
   "source": [
    "# check epsg\n",
    "print(f\"epsg code for 'v_arguin.gdf':  {v_arguin.gdf.crs.to_epsg()}\")\n",
    "\n",
    "# calculates the bounding box for each feature.\n",
    "v_arguin.set_bbox('gdf')\n",
    "print(f\"epsg code for 'v_arguin.bbox': {v_arguin.bbox.crs.to_epsg()}\")"
   ]
  },
  {
   "cell_type": "markdown",
   "metadata": {
    "id": "s_EwD_3SyNqF"
   },
   "source": [
    "We display the `sits.Vec2gdf` objects (`.gdf` and _in green_ `.bbox` _in blue_) on an interactive map."
   ]
  },
  {
   "cell_type": "code",
   "execution_count": 6,
   "metadata": {
    "colab": {
     "base_uri": "https://localhost:8080/",
     "height": 321
    },
    "executionInfo": {
     "elapsed": 4,
     "status": "ok",
     "timestamp": 1737994047707,
     "user": {
      "displayName": "Kenji Ose",
      "userId": "04036279333112259084"
     },
     "user_tz": -60
    },
    "id": "G4br5m8AoOKQ",
    "outputId": "83708e41-511f-421c-f384-43669eeb2343"
   },
   "outputs": [
    {
     "data": {
      "text/html": [
       "<iframe srcdoc=\"&lt;!DOCTYPE html&gt;\n",
       "&lt;html&gt;\n",
       "&lt;head&gt;\n",
       "    \n",
       "    &lt;meta http-equiv=&quot;content-type&quot; content=&quot;text/html; charset=UTF-8&quot; /&gt;\n",
       "    \n",
       "        &lt;script&gt;\n",
       "            L_NO_TOUCH = false;\n",
       "            L_DISABLE_3D = false;\n",
       "        &lt;/script&gt;\n",
       "    \n",
       "    &lt;style&gt;html, body {width: 100%;height: 100%;margin: 0;padding: 0;}&lt;/style&gt;\n",
       "    &lt;style&gt;#map {position:absolute;top:0;bottom:0;right:0;left:0;}&lt;/style&gt;\n",
       "    &lt;script src=&quot;https://cdn.jsdelivr.net/npm/leaflet@1.9.3/dist/leaflet.js&quot;&gt;&lt;/script&gt;\n",
       "    &lt;script src=&quot;https://code.jquery.com/jquery-3.7.1.min.js&quot;&gt;&lt;/script&gt;\n",
       "    &lt;script src=&quot;https://cdn.jsdelivr.net/npm/bootstrap@5.2.2/dist/js/bootstrap.bundle.min.js&quot;&gt;&lt;/script&gt;\n",
       "    &lt;script src=&quot;https://cdnjs.cloudflare.com/ajax/libs/Leaflet.awesome-markers/2.0.2/leaflet.awesome-markers.js&quot;&gt;&lt;/script&gt;\n",
       "    &lt;link rel=&quot;stylesheet&quot; href=&quot;https://cdn.jsdelivr.net/npm/leaflet@1.9.3/dist/leaflet.css&quot;/&gt;\n",
       "    &lt;link rel=&quot;stylesheet&quot; href=&quot;https://cdn.jsdelivr.net/npm/bootstrap@5.2.2/dist/css/bootstrap.min.css&quot;/&gt;\n",
       "    &lt;link rel=&quot;stylesheet&quot; href=&quot;https://netdna.bootstrapcdn.com/bootstrap/3.0.0/css/bootstrap.min.css&quot;/&gt;\n",
       "    &lt;link rel=&quot;stylesheet&quot; href=&quot;https://cdn.jsdelivr.net/npm/@fortawesome/fontawesome-free@6.2.0/css/all.min.css&quot;/&gt;\n",
       "    &lt;link rel=&quot;stylesheet&quot; href=&quot;https://cdnjs.cloudflare.com/ajax/libs/Leaflet.awesome-markers/2.0.2/leaflet.awesome-markers.css&quot;/&gt;\n",
       "    &lt;link rel=&quot;stylesheet&quot; href=&quot;https://cdn.jsdelivr.net/gh/python-visualization/folium/folium/templates/leaflet.awesome.rotate.min.css&quot;/&gt;\n",
       "    \n",
       "            &lt;meta name=&quot;viewport&quot; content=&quot;width=device-width,\n",
       "                initial-scale=1.0, maximum-scale=1.0, user-scalable=no&quot; /&gt;\n",
       "            &lt;style&gt;\n",
       "                #map_59294ea3ff0a35371014b5dd44c0c6a6 {\n",
       "                    position: relative;\n",
       "                    width: 100.0%;\n",
       "                    height: 100.0%;\n",
       "                    left: 0.0%;\n",
       "                    top: 0.0%;\n",
       "                }\n",
       "                .leaflet-container { font-size: 1rem; }\n",
       "            &lt;/style&gt;\n",
       "        \n",
       "    \n",
       "                    &lt;style&gt;\n",
       "                        .foliumtooltip {\n",
       "                            \n",
       "                        }\n",
       "                       .foliumtooltip table{\n",
       "                            margin: auto;\n",
       "                        }\n",
       "                        .foliumtooltip tr{\n",
       "                            text-align: left;\n",
       "                        }\n",
       "                        .foliumtooltip th{\n",
       "                            padding: 2px; padding-right: 8px;\n",
       "                        }\n",
       "                    &lt;/style&gt;\n",
       "            \n",
       "    \n",
       "                    &lt;style&gt;\n",
       "                        .foliumtooltip {\n",
       "                            \n",
       "                        }\n",
       "                       .foliumtooltip table{\n",
       "                            margin: auto;\n",
       "                        }\n",
       "                        .foliumtooltip tr{\n",
       "                            text-align: left;\n",
       "                        }\n",
       "                        .foliumtooltip th{\n",
       "                            padding: 2px; padding-right: 8px;\n",
       "                        }\n",
       "                    &lt;/style&gt;\n",
       "            \n",
       "&lt;/head&gt;\n",
       "&lt;body&gt;\n",
       "    \n",
       "    \n",
       "            &lt;div class=&quot;folium-map&quot; id=&quot;map_59294ea3ff0a35371014b5dd44c0c6a6&quot; &gt;&lt;/div&gt;\n",
       "        \n",
       "&lt;/body&gt;\n",
       "&lt;script&gt;\n",
       "    \n",
       "    \n",
       "            var map_59294ea3ff0a35371014b5dd44c0c6a6 = L.map(\n",
       "                &quot;map_59294ea3ff0a35371014b5dd44c0c6a6&quot;,\n",
       "                {\n",
       "                    center: [44.6, -1.2],\n",
       "                    crs: L.CRS.EPSG3857,\n",
       "                    zoom: 11,\n",
       "                    zoomControl: true,\n",
       "                    preferCanvas: false,\n",
       "                }\n",
       "            );\n",
       "\n",
       "            \n",
       "\n",
       "        \n",
       "    \n",
       "            var tile_layer_344a4d87141c28886aee38a1065b7b0a = L.tileLayer(\n",
       "                &quot;https://tile.openstreetmap.org/{z}/{x}/{y}.png&quot;,\n",
       "                {&quot;attribution&quot;: &quot;\\u0026copy; \\u003ca href=\\&quot;https://www.openstreetmap.org/copyright\\&quot;\\u003eOpenStreetMap\\u003c/a\\u003e contributors&quot;, &quot;detectRetina&quot;: false, &quot;maxNativeZoom&quot;: 19, &quot;maxZoom&quot;: 19, &quot;minZoom&quot;: 0, &quot;noWrap&quot;: false, &quot;opacity&quot;: 1, &quot;subdomains&quot;: &quot;abc&quot;, &quot;tms&quot;: false}\n",
       "            );\n",
       "        \n",
       "    \n",
       "            tile_layer_344a4d87141c28886aee38a1065b7b0a.addTo(map_59294ea3ff0a35371014b5dd44c0c6a6);\n",
       "        \n",
       "    \n",
       "        function geo_json_1f521085d9d1763c245853aae4ef7552_styler(feature) {\n",
       "            switch(feature.id) {\n",
       "                default:\n",
       "                    return {&quot;color&quot;: &quot;green&quot;, &quot;fillColor&quot;: &quot;green&quot;, &quot;fillOpacity&quot;: 0.5, &quot;weight&quot;: 2};\n",
       "            }\n",
       "        }\n",
       "        function geo_json_1f521085d9d1763c245853aae4ef7552_highlighter(feature) {\n",
       "            switch(feature.id) {\n",
       "                default:\n",
       "                    return {&quot;fillOpacity&quot;: 0.75};\n",
       "            }\n",
       "        }\n",
       "        function geo_json_1f521085d9d1763c245853aae4ef7552_pointToLayer(feature, latlng) {\n",
       "            var opts = {&quot;bubblingMouseEvents&quot;: true, &quot;color&quot;: &quot;#3388ff&quot;, &quot;dashArray&quot;: null, &quot;dashOffset&quot;: null, &quot;fill&quot;: true, &quot;fillColor&quot;: &quot;#3388ff&quot;, &quot;fillOpacity&quot;: 0.2, &quot;fillRule&quot;: &quot;evenodd&quot;, &quot;lineCap&quot;: &quot;round&quot;, &quot;lineJoin&quot;: &quot;round&quot;, &quot;opacity&quot;: 1.0, &quot;radius&quot;: 2, &quot;stroke&quot;: true, &quot;weight&quot;: 3};\n",
       "            \n",
       "            let style = geo_json_1f521085d9d1763c245853aae4ef7552_styler(feature)\n",
       "            Object.assign(opts, style)\n",
       "            \n",
       "            return new L.CircleMarker(latlng, opts)\n",
       "        }\n",
       "\n",
       "        function geo_json_1f521085d9d1763c245853aae4ef7552_onEachFeature(feature, layer) {\n",
       "            layer.on({\n",
       "                mouseout: function(e) {\n",
       "                    if(typeof e.target.setStyle === &quot;function&quot;){\n",
       "                            geo_json_1f521085d9d1763c245853aae4ef7552.resetStyle(e.target);\n",
       "                    }\n",
       "                },\n",
       "                mouseover: function(e) {\n",
       "                    if(typeof e.target.setStyle === &quot;function&quot;){\n",
       "                        const highlightStyle = geo_json_1f521085d9d1763c245853aae4ef7552_highlighter(e.target.feature)\n",
       "                        e.target.setStyle(highlightStyle);\n",
       "                    }\n",
       "                },\n",
       "            });\n",
       "        };\n",
       "        var geo_json_1f521085d9d1763c245853aae4ef7552 = L.geoJson(null, {\n",
       "                onEachFeature: geo_json_1f521085d9d1763c245853aae4ef7552_onEachFeature,\n",
       "            \n",
       "                style: geo_json_1f521085d9d1763c245853aae4ef7552_styler,\n",
       "                pointToLayer: geo_json_1f521085d9d1763c245853aae4ef7552_pointToLayer,\n",
       "        });\n",
       "\n",
       "        function geo_json_1f521085d9d1763c245853aae4ef7552_add (data) {\n",
       "            geo_json_1f521085d9d1763c245853aae4ef7552\n",
       "                .addData(data);\n",
       "        }\n",
       "            geo_json_1f521085d9d1763c245853aae4ef7552_add({&quot;bbox&quot;: [-1.283356958716803, 44.54723753300113, -1.195282436226136, 44.63147049370678], &quot;features&quot;: [{&quot;bbox&quot;: [-1.283356958716803, 44.54723753300113, -1.195282436226136, 44.63147049370678], &quot;geometry&quot;: {&quot;coordinates&quot;: [[[[-1.274219544279732, 44.63147049370678], [-1.195282436226136, 44.6303867249064], [-1.200358777580065, 44.54723753300113], [-1.283356958716803, 44.54850373805724], [-1.274219544279732, 44.63147049370678]]]], &quot;type&quot;: &quot;MultiPolygon&quot;}, &quot;id&quot;: &quot;0&quot;, &quot;properties&quot;: {&quot;__folium_color&quot;: &quot;green&quot;, &quot;id&quot;: 1, &quot;id_poly&quot;: 1}, &quot;type&quot;: &quot;Feature&quot;}], &quot;type&quot;: &quot;FeatureCollection&quot;});\n",
       "\n",
       "        \n",
       "    \n",
       "    geo_json_1f521085d9d1763c245853aae4ef7552.bindTooltip(\n",
       "    function(layer){\n",
       "    let div = L.DomUtil.create(&#x27;div&#x27;);\n",
       "    \n",
       "    let handleObject = feature=&gt;typeof(feature)==&#x27;object&#x27; ? JSON.stringify(feature) : feature;\n",
       "    let fields = [&quot;id&quot;, &quot;id_poly&quot;];\n",
       "    let aliases = [&quot;id&quot;, &quot;id_poly&quot;];\n",
       "    let table = &#x27;&lt;table&gt;&#x27; +\n",
       "        String(\n",
       "        fields.map(\n",
       "        (v,i)=&gt;\n",
       "        `&lt;tr&gt;\n",
       "            &lt;th&gt;${aliases[i]}&lt;/th&gt;\n",
       "            \n",
       "            &lt;td&gt;${handleObject(layer.feature.properties[v])}&lt;/td&gt;\n",
       "        &lt;/tr&gt;`).join(&#x27;&#x27;))\n",
       "    +&#x27;&lt;/table&gt;&#x27;;\n",
       "    div.innerHTML=table;\n",
       "    \n",
       "    return div\n",
       "    }\n",
       "    ,{&quot;className&quot;: &quot;foliumtooltip&quot;, &quot;sticky&quot;: true});\n",
       "                     \n",
       "    \n",
       "            geo_json_1f521085d9d1763c245853aae4ef7552.addTo(map_59294ea3ff0a35371014b5dd44c0c6a6);\n",
       "        \n",
       "    \n",
       "        function geo_json_38c8e71d85de1fefab99101136f79564_styler(feature) {\n",
       "            switch(feature.id) {\n",
       "                default:\n",
       "                    return {&quot;fillOpacity&quot;: 0.5, &quot;weight&quot;: 2};\n",
       "            }\n",
       "        }\n",
       "        function geo_json_38c8e71d85de1fefab99101136f79564_highlighter(feature) {\n",
       "            switch(feature.id) {\n",
       "                default:\n",
       "                    return {&quot;fillOpacity&quot;: 0.75};\n",
       "            }\n",
       "        }\n",
       "        function geo_json_38c8e71d85de1fefab99101136f79564_pointToLayer(feature, latlng) {\n",
       "            var opts = {&quot;bubblingMouseEvents&quot;: true, &quot;color&quot;: &quot;#3388ff&quot;, &quot;dashArray&quot;: null, &quot;dashOffset&quot;: null, &quot;fill&quot;: true, &quot;fillColor&quot;: &quot;#3388ff&quot;, &quot;fillOpacity&quot;: 0.2, &quot;fillRule&quot;: &quot;evenodd&quot;, &quot;lineCap&quot;: &quot;round&quot;, &quot;lineJoin&quot;: &quot;round&quot;, &quot;opacity&quot;: 1.0, &quot;radius&quot;: 2, &quot;stroke&quot;: true, &quot;weight&quot;: 3};\n",
       "            \n",
       "            let style = geo_json_38c8e71d85de1fefab99101136f79564_styler(feature)\n",
       "            Object.assign(opts, style)\n",
       "            \n",
       "            return new L.CircleMarker(latlng, opts)\n",
       "        }\n",
       "\n",
       "        function geo_json_38c8e71d85de1fefab99101136f79564_onEachFeature(feature, layer) {\n",
       "            layer.on({\n",
       "                mouseout: function(e) {\n",
       "                    if(typeof e.target.setStyle === &quot;function&quot;){\n",
       "                            geo_json_38c8e71d85de1fefab99101136f79564.resetStyle(e.target);\n",
       "                    }\n",
       "                },\n",
       "                mouseover: function(e) {\n",
       "                    if(typeof e.target.setStyle === &quot;function&quot;){\n",
       "                        const highlightStyle = geo_json_38c8e71d85de1fefab99101136f79564_highlighter(e.target.feature)\n",
       "                        e.target.setStyle(highlightStyle);\n",
       "                    }\n",
       "                },\n",
       "            });\n",
       "        };\n",
       "        var geo_json_38c8e71d85de1fefab99101136f79564 = L.geoJson(null, {\n",
       "                onEachFeature: geo_json_38c8e71d85de1fefab99101136f79564_onEachFeature,\n",
       "            \n",
       "                style: geo_json_38c8e71d85de1fefab99101136f79564_styler,\n",
       "                pointToLayer: geo_json_38c8e71d85de1fefab99101136f79564_pointToLayer,\n",
       "        });\n",
       "\n",
       "        function geo_json_38c8e71d85de1fefab99101136f79564_add (data) {\n",
       "            geo_json_38c8e71d85de1fefab99101136f79564\n",
       "                .addData(data);\n",
       "        }\n",
       "            geo_json_38c8e71d85de1fefab99101136f79564_add({&quot;bbox&quot;: [-1.283356958716803, 44.54723753300113, -1.195282436226136, 44.63147049370678], &quot;features&quot;: [{&quot;bbox&quot;: [-1.283356958716803, 44.54723753300113, -1.195282436226136, 44.63147049370678], &quot;geometry&quot;: {&quot;coordinates&quot;: [[[-1.195282436226136, 44.54723753300113], [-1.195282436226136, 44.63147049370678], [-1.283356958716803, 44.63147049370678], [-1.283356958716803, 44.54723753300113], [-1.195282436226136, 44.54723753300113]]], &quot;type&quot;: &quot;Polygon&quot;}, &quot;id&quot;: &quot;0&quot;, &quot;properties&quot;: {&quot;id&quot;: 1, &quot;id_poly&quot;: 1}, &quot;type&quot;: &quot;Feature&quot;}], &quot;type&quot;: &quot;FeatureCollection&quot;});\n",
       "\n",
       "        \n",
       "    \n",
       "    geo_json_38c8e71d85de1fefab99101136f79564.bindTooltip(\n",
       "    function(layer){\n",
       "    let div = L.DomUtil.create(&#x27;div&#x27;);\n",
       "    \n",
       "    let handleObject = feature=&gt;typeof(feature)==&#x27;object&#x27; ? JSON.stringify(feature) : feature;\n",
       "    let fields = [&quot;id&quot;, &quot;id_poly&quot;];\n",
       "    let aliases = [&quot;id&quot;, &quot;id_poly&quot;];\n",
       "    let table = &#x27;&lt;table&gt;&#x27; +\n",
       "        String(\n",
       "        fields.map(\n",
       "        (v,i)=&gt;\n",
       "        `&lt;tr&gt;\n",
       "            &lt;th&gt;${aliases[i]}&lt;/th&gt;\n",
       "            \n",
       "            &lt;td&gt;${handleObject(layer.feature.properties[v])}&lt;/td&gt;\n",
       "        &lt;/tr&gt;`).join(&#x27;&#x27;))\n",
       "    +&#x27;&lt;/table&gt;&#x27;;\n",
       "    div.innerHTML=table;\n",
       "    \n",
       "    return div\n",
       "    }\n",
       "    ,{&quot;className&quot;: &quot;foliumtooltip&quot;, &quot;sticky&quot;: true});\n",
       "                     \n",
       "    \n",
       "            geo_json_38c8e71d85de1fefab99101136f79564.addTo(map_59294ea3ff0a35371014b5dd44c0c6a6);\n",
       "        \n",
       "&lt;/script&gt;\n",
       "&lt;/html&gt;\" width=\"100%\" height=\"300\"style=\"border:none !important;\" \"allowfullscreen\" \"webkitallowfullscreen\" \"mozallowfullscreen\"></iframe>"
      ],
      "text/plain": [
       "<folium.folium.Map at 0x7f3feba8f010>"
      ]
     },
     "execution_count": 6,
     "metadata": {},
     "output_type": "execute_result"
    }
   ],
   "source": [
    "import folium\n",
    "\n",
    "f = folium.Figure(height=300)\n",
    "m = folium.Map(location=[44.6, -1.2], zoom_start=11).add_to(f)\n",
    "v_arguin.gdf.explore(m=m, height=400, color='green')\n",
    "v_arguin.bbox.explore(m=m, height=400)"
   ]
  },
  {
   "cell_type": "markdown",
   "metadata": {
    "id": "wBDpvyb0y6ko"
   },
   "source": [
    "### 2.3. CRS management\n",
    "\n",
    "In order to request data on a STAC catalog, we need to provide the bounding box coordinates in Lat/Long, i.e the EPSG:4326. Then we also need to specify in which CRS we want to obtain the satellite time series. As we are working in France, it can be the EPSG 2154 (RGF-93, Lambert-93) or the EPSG 3035 (ETRS89-extended), valid at the European scale.\n",
    "\n",
    "Here we calculate the coordinates in EPSG:4326 and EPSG:3035. Since there is only one polygon, we keep the coordinates into two lists."
   ]
  },
  {
   "cell_type": "code",
   "execution_count": 7,
   "metadata": {
    "colab": {
     "base_uri": "https://localhost:8080/"
    },
    "executionInfo": {
     "elapsed": 457,
     "status": "ok",
     "timestamp": 1737993818107,
     "user": {
      "displayName": "Kenji Ose",
      "userId": "04036279333112259084"
     },
     "user_tz": -60
    },
    "id": "79Cb6-97rw27",
    "outputId": "b243db7b-6f09-4bf0-f4e9-c0a0c030d814"
   },
   "outputs": [
    {
     "name": "stdout",
     "output_type": "stream",
     "text": [
      "bbox in EPSG:4326: [-1.283356958716803, 44.54723753300113, -1.195282436226136, 44.63147049370678]\n",
      "bbox in EPSG:3035: [3426472.0201418595, 2448438.7064564982, 3434719.22278734, 2458751.114093349]\n"
     ]
    }
   ],
   "source": [
    "bbox_4326 = list(v_arguin.bbox.iloc[0]['geometry'].bounds)\n",
    "bbox_3035 = list(v_arguin.bbox.to_crs(3035).iloc[0]['geometry'].bounds)\n",
    "\n",
    "print(f'bbox in EPSG:4326: {bbox_4326}')\n",
    "print(f'bbox in EPSG:3035: {bbox_3035}')"
   ]
  },
  {
   "cell_type": "markdown",
   "metadata": {
    "id": "HkKcjBTtrkoB"
   },
   "source": [
    "## 3. Loading and preprocessing of a Satellite Image Time-Series (SITS)\n",
    "\n",
    "In this example, we have only one area (one polygon) to process. We use the class `sits.StacAttack` to request and preprocess the data. In case you need to distribute the processing, take a look on the `sits.Multiproc()` approach, using `Dask`.\n",
    "\n",
    "### 3.1. Creation of a Datacube from STAC catalog\n",
    "\n",
    "The request consists in retrieving Sentinel-2 images (level 2A) acquired from January 1, 2016 to January 1, 2025 with cloud cover less than 10%. Then we build a 4 bands geo-datacube ('B03', 'B04', 'B08' and 'SCL') in EPSG:3035 with a 40m spatial resolution."
   ]
  },
  {
   "cell_type": "code",
   "execution_count": 8,
   "metadata": {
    "executionInfo": {
     "elapsed": 7130,
     "status": "ok",
     "timestamp": 1737993825234,
     "user": {
      "displayName": "Kenji Ose",
      "userId": "04036279333112259084"
     },
     "user_tz": -60
    },
    "id": "N8bn6ail-46F"
   },
   "outputs": [],
   "source": [
    "# instance of the class sits.StacAttack()\n",
    "ts_S2 = sits.StacAttack(provider='mpc',\n",
    "                        collection='sentinel-2-l2a',\n",
    "                        bands=['B03', 'B04', 'B08', 'SCL'])\n",
    "\n",
    "# search of items based on bbox coordinates and time interval criteria\n",
    "ts_S2.searchItems(bbox_4326,\n",
    "                  date_start=datetime(2016, 1, 1),\n",
    "                  date_end=datetime(2025, 1, 1),\n",
    "                  query={\"eo:cloud_cover\": {\"lt\": 10}}\n",
    "                 )\n",
    "# load of the time series in a lazy way\n",
    "ts_S2.loadCube(bbox_3035, resolution=40, crs_out=3035)"
   ]
  },
  {
   "cell_type": "markdown",
   "metadata": {
    "id": "RV7yNjVL5Kh0"
   },
   "source": [
    "The method `StacAttack.loadCube()` returns an object `StacAttack.cube` i.e. an `xarray.Dataset()`. If necessary, you can modify it using the methods of `xarray.Dataset()` (not really recommended)."
   ]
  },
  {
   "cell_type": "code",
   "execution_count": 9,
   "metadata": {
    "colab": {
     "base_uri": "https://localhost:8080/",
     "height": 204
    },
    "executionInfo": {
     "elapsed": 239,
     "status": "ok",
     "timestamp": 1737993825470,
     "user": {
      "displayName": "Kenji Ose",
      "userId": "04036279333112259084"
     },
     "user_tz": -60
    },
    "id": "AIcui8YH5uK4",
    "outputId": "16cd03f7-4e48-4c21-ff96-fb24900bf3a6"
   },
   "outputs": [
    {
     "data": {
      "text/plain": [
       "xarray.core.dataset.Dataset"
      ]
     },
     "execution_count": 9,
     "metadata": {},
     "output_type": "execute_result"
    }
   ],
   "source": [
    "type(ts_S2.cube)"
   ]
  },
  {
   "cell_type": "markdown",
   "metadata": {
    "id": "wmCyTswh6bc5"
   },
   "source": [
    "### 3.2. Create and apply a mask\n",
    "\n",
    "We want to mask the defective and cloudy pixels in the Datacube (`StacAttack.cube`). To do this, we use the SCL band provided with the Sentinel-2 images. SCL refers to \"Scene Classification Layer\" and has been developed to developed to distinguish between cloudy pixels, clear pixels and water pixels. It consists of 12 classes.\n",
    "\n",
    "In this example we create a mask based on the following classes:\n",
    "- 0: No Data (Missing data)\n",
    "- 1: Saturated or defective pixel\n",
    "- 3: Cloud shadows\n",
    "- 8: Cloud medium probability\n",
    "- 9: Cloud high probability\n",
    "- 10: Thin cirrus\n",
    "\n"
   ]
  },
  {
   "cell_type": "code",
   "execution_count": 10,
   "metadata": {
    "executionInfo": {
     "elapsed": 258,
     "status": "ok",
     "timestamp": 1737993825723,
     "user": {
      "displayName": "Kenji Ose",
      "userId": "04036279333112259084"
     },
     "user_tz": -60
    },
    "id": "Agzz-uAf6Zvg"
   },
   "outputs": [],
   "source": [
    "# classes used to mask\n",
    "SCL_mask = [0, 1, 3, 8, 9, 10]\n",
    "# creation of the SCL mask\n",
    "ts_S2.mask(mask_band='SCL', mask_values=[SCL_mask])"
   ]
  },
  {
   "cell_type": "markdown",
   "metadata": {
    "id": "6i2IuyG6CGzN"
   },
   "source": [
    "The method `StacAttack.mask()` returns an object `StacAttack.mask` i.e. an `xarray.Dataaarray()`."
   ]
  },
  {
   "cell_type": "code",
   "execution_count": 11,
   "metadata": {
    "colab": {
     "base_uri": "https://localhost:8080/",
     "height": 448
    },
    "executionInfo": {
     "elapsed": 8,
     "status": "ok",
     "timestamp": 1737993825724,
     "user": {
      "displayName": "Kenji Ose",
      "userId": "04036279333112259084"
     },
     "user_tz": -60
    },
    "id": "u8ckFTIeChiU",
    "outputId": "966dfb19-97eb-4835-dff6-9aa2849391ca"
   },
   "outputs": [
    {
     "data": {
      "text/html": [
       "<div><svg style=\"position: absolute; width: 0; height: 0; overflow: hidden\">\n",
       "<defs>\n",
       "<symbol id=\"icon-database\" viewBox=\"0 0 32 32\">\n",
       "<path d=\"M16 0c-8.837 0-16 2.239-16 5v4c0 2.761 7.163 5 16 5s16-2.239 16-5v-4c0-2.761-7.163-5-16-5z\"></path>\n",
       "<path d=\"M16 17c-8.837 0-16-2.239-16-5v6c0 2.761 7.163 5 16 5s16-2.239 16-5v-6c0 2.761-7.163 5-16 5z\"></path>\n",
       "<path d=\"M16 26c-8.837 0-16-2.239-16-5v6c0 2.761 7.163 5 16 5s16-2.239 16-5v-6c0 2.761-7.163 5-16 5z\"></path>\n",
       "</symbol>\n",
       "<symbol id=\"icon-file-text2\" viewBox=\"0 0 32 32\">\n",
       "<path d=\"M28.681 7.159c-0.694-0.947-1.662-2.053-2.724-3.116s-2.169-2.030-3.116-2.724c-1.612-1.182-2.393-1.319-2.841-1.319h-15.5c-1.378 0-2.5 1.121-2.5 2.5v27c0 1.378 1.122 2.5 2.5 2.5h23c1.378 0 2.5-1.122 2.5-2.5v-19.5c0-0.448-0.137-1.23-1.319-2.841zM24.543 5.457c0.959 0.959 1.712 1.825 2.268 2.543h-4.811v-4.811c0.718 0.556 1.584 1.309 2.543 2.268zM28 29.5c0 0.271-0.229 0.5-0.5 0.5h-23c-0.271 0-0.5-0.229-0.5-0.5v-27c0-0.271 0.229-0.5 0.5-0.5 0 0 15.499-0 15.5 0v7c0 0.552 0.448 1 1 1h7v19.5z\"></path>\n",
       "<path d=\"M23 26h-14c-0.552 0-1-0.448-1-1s0.448-1 1-1h14c0.552 0 1 0.448 1 1s-0.448 1-1 1z\"></path>\n",
       "<path d=\"M23 22h-14c-0.552 0-1-0.448-1-1s0.448-1 1-1h14c0.552 0 1 0.448 1 1s-0.448 1-1 1z\"></path>\n",
       "<path d=\"M23 18h-14c-0.552 0-1-0.448-1-1s0.448-1 1-1h14c0.552 0 1 0.448 1 1s-0.448 1-1 1z\"></path>\n",
       "</symbol>\n",
       "</defs>\n",
       "</svg>\n",
       "<style>/* CSS stylesheet for displaying xarray objects in jupyterlab.\n",
       " *\n",
       " */\n",
       "\n",
       ":root {\n",
       "  --xr-font-color0: var(\n",
       "    --jp-content-font-color0,\n",
       "    var(--pst-color-text-base rgba(0, 0, 0, 1))\n",
       "  );\n",
       "  --xr-font-color2: var(\n",
       "    --jp-content-font-color2,\n",
       "    var(--pst-color-text-base, rgba(0, 0, 0, 0.54))\n",
       "  );\n",
       "  --xr-font-color3: var(\n",
       "    --jp-content-font-color3,\n",
       "    var(--pst-color-text-base, rgba(0, 0, 0, 0.38))\n",
       "  );\n",
       "  --xr-border-color: var(\n",
       "    --jp-border-color2,\n",
       "    hsl(from var(--pst-color-on-background, white) h s calc(l - 10))\n",
       "  );\n",
       "  --xr-disabled-color: var(\n",
       "    --jp-layout-color3,\n",
       "    hsl(from var(--pst-color-on-background, white) h s calc(l - 40))\n",
       "  );\n",
       "  --xr-background-color: var(\n",
       "    --jp-layout-color0,\n",
       "    var(--pst-color-on-background, white)\n",
       "  );\n",
       "  --xr-background-color-row-even: var(\n",
       "    --jp-layout-color1,\n",
       "    hsl(from var(--pst-color-on-background, white) h s calc(l - 5))\n",
       "  );\n",
       "  --xr-background-color-row-odd: var(\n",
       "    --jp-layout-color2,\n",
       "    hsl(from var(--pst-color-on-background, white) h s calc(l - 15))\n",
       "  );\n",
       "}\n",
       "\n",
       "html[theme=\"dark\"],\n",
       "html[data-theme=\"dark\"],\n",
       "body[data-theme=\"dark\"],\n",
       "body.vscode-dark {\n",
       "  --xr-font-color0: var(\n",
       "    --jp-content-font-color0,\n",
       "    var(--pst-color-text-base, rgba(255, 255, 255, 1))\n",
       "  );\n",
       "  --xr-font-color2: var(\n",
       "    --jp-content-font-color2,\n",
       "    var(--pst-color-text-base, rgba(255, 255, 255, 0.54))\n",
       "  );\n",
       "  --xr-font-color3: var(\n",
       "    --jp-content-font-color3,\n",
       "    var(--pst-color-text-base, rgba(255, 255, 255, 0.38))\n",
       "  );\n",
       "  --xr-border-color: var(\n",
       "    --jp-border-color2,\n",
       "    hsl(from var(--pst-color-on-background, #111111) h s calc(l + 10))\n",
       "  );\n",
       "  --xr-disabled-color: var(\n",
       "    --jp-layout-color3,\n",
       "    hsl(from var(--pst-color-on-background, #111111) h s calc(l + 40))\n",
       "  );\n",
       "  --xr-background-color: var(\n",
       "    --jp-layout-color0,\n",
       "    var(--pst-color-on-background, #111111)\n",
       "  );\n",
       "  --xr-background-color-row-even: var(\n",
       "    --jp-layout-color1,\n",
       "    hsl(from var(--pst-color-on-background, #111111) h s calc(l + 5))\n",
       "  );\n",
       "  --xr-background-color-row-odd: var(\n",
       "    --jp-layout-color2,\n",
       "    hsl(from var(--pst-color-on-background, #111111) h s calc(l + 15))\n",
       "  );\n",
       "}\n",
       "\n",
       ".xr-wrap {\n",
       "  display: block !important;\n",
       "  min-width: 300px;\n",
       "  max-width: 700px;\n",
       "}\n",
       "\n",
       ".xr-text-repr-fallback {\n",
       "  /* fallback to plain text repr when CSS is not injected (untrusted notebook) */\n",
       "  display: none;\n",
       "}\n",
       "\n",
       ".xr-header {\n",
       "  padding-top: 6px;\n",
       "  padding-bottom: 6px;\n",
       "  margin-bottom: 4px;\n",
       "  border-bottom: solid 1px var(--xr-border-color);\n",
       "}\n",
       "\n",
       ".xr-header > div,\n",
       ".xr-header > ul {\n",
       "  display: inline;\n",
       "  margin-top: 0;\n",
       "  margin-bottom: 0;\n",
       "}\n",
       "\n",
       ".xr-obj-type,\n",
       ".xr-array-name {\n",
       "  margin-left: 2px;\n",
       "  margin-right: 10px;\n",
       "}\n",
       "\n",
       ".xr-obj-type {\n",
       "  color: var(--xr-font-color2);\n",
       "}\n",
       "\n",
       ".xr-sections {\n",
       "  padding-left: 0 !important;\n",
       "  display: grid;\n",
       "  grid-template-columns: 150px auto auto 1fr 0 20px 0 20px;\n",
       "}\n",
       "\n",
       ".xr-section-item {\n",
       "  display: contents;\n",
       "}\n",
       "\n",
       ".xr-section-item input {\n",
       "  display: inline-block;\n",
       "  opacity: 0;\n",
       "  height: 0;\n",
       "}\n",
       "\n",
       ".xr-section-item input + label {\n",
       "  color: var(--xr-disabled-color);\n",
       "  border: 2px solid transparent !important;\n",
       "}\n",
       "\n",
       ".xr-section-item input:enabled + label {\n",
       "  cursor: pointer;\n",
       "  color: var(--xr-font-color2);\n",
       "}\n",
       "\n",
       ".xr-section-item input:focus + label {\n",
       "  border: 2px solid var(--xr-font-color0) !important;\n",
       "}\n",
       "\n",
       ".xr-section-item input:enabled + label:hover {\n",
       "  color: var(--xr-font-color0);\n",
       "}\n",
       "\n",
       ".xr-section-summary {\n",
       "  grid-column: 1;\n",
       "  color: var(--xr-font-color2);\n",
       "  font-weight: 500;\n",
       "}\n",
       "\n",
       ".xr-section-summary > span {\n",
       "  display: inline-block;\n",
       "  padding-left: 0.5em;\n",
       "}\n",
       "\n",
       ".xr-section-summary-in:disabled + label {\n",
       "  color: var(--xr-font-color2);\n",
       "}\n",
       "\n",
       ".xr-section-summary-in + label:before {\n",
       "  display: inline-block;\n",
       "  content: \"►\";\n",
       "  font-size: 11px;\n",
       "  width: 15px;\n",
       "  text-align: center;\n",
       "}\n",
       "\n",
       ".xr-section-summary-in:disabled + label:before {\n",
       "  color: var(--xr-disabled-color);\n",
       "}\n",
       "\n",
       ".xr-section-summary-in:checked + label:before {\n",
       "  content: \"▼\";\n",
       "}\n",
       "\n",
       ".xr-section-summary-in:checked + label > span {\n",
       "  display: none;\n",
       "}\n",
       "\n",
       ".xr-section-summary,\n",
       ".xr-section-inline-details {\n",
       "  padding-top: 4px;\n",
       "  padding-bottom: 4px;\n",
       "}\n",
       "\n",
       ".xr-section-inline-details {\n",
       "  grid-column: 2 / -1;\n",
       "}\n",
       "\n",
       ".xr-section-details {\n",
       "  display: none;\n",
       "  grid-column: 1 / -1;\n",
       "  margin-bottom: 5px;\n",
       "}\n",
       "\n",
       ".xr-section-summary-in:checked ~ .xr-section-details {\n",
       "  display: contents;\n",
       "}\n",
       "\n",
       ".xr-array-wrap {\n",
       "  grid-column: 1 / -1;\n",
       "  display: grid;\n",
       "  grid-template-columns: 20px auto;\n",
       "}\n",
       "\n",
       ".xr-array-wrap > label {\n",
       "  grid-column: 1;\n",
       "  vertical-align: top;\n",
       "}\n",
       "\n",
       ".xr-preview {\n",
       "  color: var(--xr-font-color3);\n",
       "}\n",
       "\n",
       ".xr-array-preview,\n",
       ".xr-array-data {\n",
       "  padding: 0 5px !important;\n",
       "  grid-column: 2;\n",
       "}\n",
       "\n",
       ".xr-array-data,\n",
       ".xr-array-in:checked ~ .xr-array-preview {\n",
       "  display: none;\n",
       "}\n",
       "\n",
       ".xr-array-in:checked ~ .xr-array-data,\n",
       ".xr-array-preview {\n",
       "  display: inline-block;\n",
       "}\n",
       "\n",
       ".xr-dim-list {\n",
       "  display: inline-block !important;\n",
       "  list-style: none;\n",
       "  padding: 0 !important;\n",
       "  margin: 0;\n",
       "}\n",
       "\n",
       ".xr-dim-list li {\n",
       "  display: inline-block;\n",
       "  padding: 0;\n",
       "  margin: 0;\n",
       "}\n",
       "\n",
       ".xr-dim-list:before {\n",
       "  content: \"(\";\n",
       "}\n",
       "\n",
       ".xr-dim-list:after {\n",
       "  content: \")\";\n",
       "}\n",
       "\n",
       ".xr-dim-list li:not(:last-child):after {\n",
       "  content: \",\";\n",
       "  padding-right: 5px;\n",
       "}\n",
       "\n",
       ".xr-has-index {\n",
       "  font-weight: bold;\n",
       "}\n",
       "\n",
       ".xr-var-list,\n",
       ".xr-var-item {\n",
       "  display: contents;\n",
       "}\n",
       "\n",
       ".xr-var-item > div,\n",
       ".xr-var-item label,\n",
       ".xr-var-item > .xr-var-name span {\n",
       "  background-color: var(--xr-background-color-row-even);\n",
       "  border-color: var(--xr-background-color-row-odd);\n",
       "  margin-bottom: 0;\n",
       "  padding-top: 2px;\n",
       "}\n",
       "\n",
       ".xr-var-item > .xr-var-name:hover span {\n",
       "  padding-right: 5px;\n",
       "}\n",
       "\n",
       ".xr-var-list > li:nth-child(odd) > div,\n",
       ".xr-var-list > li:nth-child(odd) > label,\n",
       ".xr-var-list > li:nth-child(odd) > .xr-var-name span {\n",
       "  background-color: var(--xr-background-color-row-odd);\n",
       "  border-color: var(--xr-background-color-row-even);\n",
       "}\n",
       "\n",
       ".xr-var-name {\n",
       "  grid-column: 1;\n",
       "}\n",
       "\n",
       ".xr-var-dims {\n",
       "  grid-column: 2;\n",
       "}\n",
       "\n",
       ".xr-var-dtype {\n",
       "  grid-column: 3;\n",
       "  text-align: right;\n",
       "  color: var(--xr-font-color2);\n",
       "}\n",
       "\n",
       ".xr-var-preview {\n",
       "  grid-column: 4;\n",
       "}\n",
       "\n",
       ".xr-index-preview {\n",
       "  grid-column: 2 / 5;\n",
       "  color: var(--xr-font-color2);\n",
       "}\n",
       "\n",
       ".xr-var-name,\n",
       ".xr-var-dims,\n",
       ".xr-var-dtype,\n",
       ".xr-preview,\n",
       ".xr-attrs dt {\n",
       "  white-space: nowrap;\n",
       "  overflow: hidden;\n",
       "  text-overflow: ellipsis;\n",
       "  padding-right: 10px;\n",
       "}\n",
       "\n",
       ".xr-var-name:hover,\n",
       ".xr-var-dims:hover,\n",
       ".xr-var-dtype:hover,\n",
       ".xr-attrs dt:hover {\n",
       "  overflow: visible;\n",
       "  width: auto;\n",
       "  z-index: 1;\n",
       "}\n",
       "\n",
       ".xr-var-attrs,\n",
       ".xr-var-data,\n",
       ".xr-index-data {\n",
       "  display: none;\n",
       "  border-top: 2px dotted var(--xr-background-color);\n",
       "  padding-bottom: 20px !important;\n",
       "  padding-top: 10px !important;\n",
       "}\n",
       "\n",
       ".xr-var-attrs-in + label,\n",
       ".xr-var-data-in + label,\n",
       ".xr-index-data-in + label {\n",
       "  padding: 0 1px;\n",
       "}\n",
       "\n",
       ".xr-var-attrs-in:checked ~ .xr-var-attrs,\n",
       ".xr-var-data-in:checked ~ .xr-var-data,\n",
       ".xr-index-data-in:checked ~ .xr-index-data {\n",
       "  display: block;\n",
       "}\n",
       "\n",
       ".xr-var-data > table {\n",
       "  float: right;\n",
       "}\n",
       "\n",
       ".xr-var-data > pre,\n",
       ".xr-index-data > pre,\n",
       ".xr-var-data > table > tbody > tr {\n",
       "  background-color: transparent !important;\n",
       "}\n",
       "\n",
       ".xr-var-name span,\n",
       ".xr-var-data,\n",
       ".xr-index-name div,\n",
       ".xr-index-data,\n",
       ".xr-attrs {\n",
       "  padding-left: 25px !important;\n",
       "}\n",
       "\n",
       ".xr-attrs,\n",
       ".xr-var-attrs,\n",
       ".xr-var-data,\n",
       ".xr-index-data {\n",
       "  grid-column: 1 / -1;\n",
       "}\n",
       "\n",
       "dl.xr-attrs {\n",
       "  padding: 0;\n",
       "  margin: 0;\n",
       "  display: grid;\n",
       "  grid-template-columns: 125px auto;\n",
       "}\n",
       "\n",
       ".xr-attrs dt,\n",
       ".xr-attrs dd {\n",
       "  padding: 0;\n",
       "  margin: 0;\n",
       "  float: left;\n",
       "  padding-right: 10px;\n",
       "  width: auto;\n",
       "}\n",
       "\n",
       ".xr-attrs dt {\n",
       "  font-weight: normal;\n",
       "  grid-column: 1;\n",
       "}\n",
       "\n",
       ".xr-attrs dt:hover span {\n",
       "  display: inline-block;\n",
       "  background: var(--xr-background-color);\n",
       "  padding-right: 10px;\n",
       "}\n",
       "\n",
       ".xr-attrs dd {\n",
       "  grid-column: 2;\n",
       "  white-space: pre-wrap;\n",
       "  word-break: break-all;\n",
       "}\n",
       "\n",
       ".xr-icon-database,\n",
       ".xr-icon-file-text2,\n",
       ".xr-no-icon {\n",
       "  display: inline-block;\n",
       "  vertical-align: middle;\n",
       "  width: 1em;\n",
       "  height: 1.5em !important;\n",
       "  stroke-width: 0;\n",
       "  stroke: currentColor;\n",
       "  fill: currentColor;\n",
       "}\n",
       "\n",
       ".xr-var-attrs-in:checked + label > .xr-icon-file-text2,\n",
       ".xr-var-data-in:checked + label > .xr-icon-database,\n",
       ".xr-index-data-in:checked + label > .xr-icon-database {\n",
       "  color: var(--xr-font-color0);\n",
       "  filter: drop-shadow(1px 1px 5px var(--xr-font-color2));\n",
       "  stroke-width: 0.8px;\n",
       "}\n",
       "</style><pre class='xr-text-repr-fallback'>&lt;xarray.DataArray &#x27;SCL&#x27; (time: 108, y: 259, x: 207)&gt; Size: 6MB\n",
       "dask.array&lt;any-aggregate, shape=(108, 259, 207), dtype=bool, chunksize=(1, 259, 207), chunktype=numpy.ndarray&gt;\n",
       "Coordinates:\n",
       "  * y            (y) float64 2kB 2.459e+06 2.459e+06 ... 2.448e+06 2.448e+06\n",
       "  * x            (x) float64 2kB 3.426e+06 3.426e+06 ... 3.435e+06 3.435e+06\n",
       "  * time         (time) datetime64[ns] 864B 2016-03-18T11:11:02.030000 ... 20...\n",
       "    spatial_ref  int64 8B 0</pre><div class='xr-wrap' style='display:none'><div class='xr-header'><div class='xr-obj-type'>xarray.DataArray</div><div class='xr-array-name'>'SCL'</div><ul class='xr-dim-list'><li><span class='xr-has-index'>time</span>: 108</li><li><span class='xr-has-index'>y</span>: 259</li><li><span class='xr-has-index'>x</span>: 207</li></ul></div><ul class='xr-sections'><li class='xr-section-item'><div class='xr-array-wrap'><input id='section-096b795f-a346-4e05-89d7-4d40079e2486' class='xr-array-in' type='checkbox' checked><label for='section-096b795f-a346-4e05-89d7-4d40079e2486' title='Show/hide data repr'><svg class='icon xr-icon-database'><use xlink:href='#icon-database'></use></svg></label><div class='xr-array-preview xr-preview'><span>dask.array&lt;chunksize=(1, 259, 207), meta=np.ndarray&gt;</span></div><div class='xr-array-data'><table>\n",
       "    <tr>\n",
       "        <td>\n",
       "            <table style=\"border-collapse: collapse;\">\n",
       "                <thead>\n",
       "                    <tr>\n",
       "                        <td> </td>\n",
       "                        <th> Array </th>\n",
       "                        <th> Chunk </th>\n",
       "                    </tr>\n",
       "                </thead>\n",
       "                <tbody>\n",
       "                    \n",
       "                    <tr>\n",
       "                        <th> Bytes </th>\n",
       "                        <td> 5.52 MiB </td>\n",
       "                        <td> 52.36 kiB </td>\n",
       "                    </tr>\n",
       "                    \n",
       "                    <tr>\n",
       "                        <th> Shape </th>\n",
       "                        <td> (108, 259, 207) </td>\n",
       "                        <td> (1, 259, 207) </td>\n",
       "                    </tr>\n",
       "                    <tr>\n",
       "                        <th> Dask graph </th>\n",
       "                        <td colspan=\"2\"> 108 chunks in 7 graph layers </td>\n",
       "                    </tr>\n",
       "                    <tr>\n",
       "                        <th> Data type </th>\n",
       "                        <td colspan=\"2\"> bool numpy.ndarray </td>\n",
       "                    </tr>\n",
       "                </tbody>\n",
       "            </table>\n",
       "        </td>\n",
       "        <td>\n",
       "        <svg width=\"185\" height=\"199\" style=\"stroke:rgb(0,0,0);stroke-width:1\" >\n",
       "\n",
       "  <!-- Horizontal lines -->\n",
       "  <line x1=\"10\" y1=\"0\" x2=\"39\" y2=\"29\" style=\"stroke-width:2\" />\n",
       "  <line x1=\"10\" y1=\"120\" x2=\"39\" y2=\"149\" style=\"stroke-width:2\" />\n",
       "\n",
       "  <!-- Vertical lines -->\n",
       "  <line x1=\"10\" y1=\"0\" x2=\"10\" y2=\"120\" style=\"stroke-width:2\" />\n",
       "  <line x1=\"11\" y1=\"1\" x2=\"11\" y2=\"121\" />\n",
       "  <line x1=\"12\" y1=\"2\" x2=\"12\" y2=\"122\" />\n",
       "  <line x1=\"14\" y1=\"4\" x2=\"14\" y2=\"124\" />\n",
       "  <line x1=\"15\" y1=\"5\" x2=\"15\" y2=\"125\" />\n",
       "  <line x1=\"17\" y1=\"7\" x2=\"17\" y2=\"127\" />\n",
       "  <line x1=\"19\" y1=\"9\" x2=\"19\" y2=\"129\" />\n",
       "  <line x1=\"20\" y1=\"10\" x2=\"20\" y2=\"130\" />\n",
       "  <line x1=\"22\" y1=\"12\" x2=\"22\" y2=\"132\" />\n",
       "  <line x1=\"23\" y1=\"13\" x2=\"23\" y2=\"133\" />\n",
       "  <line x1=\"25\" y1=\"15\" x2=\"25\" y2=\"135\" />\n",
       "  <line x1=\"26\" y1=\"16\" x2=\"26\" y2=\"136\" />\n",
       "  <line x1=\"28\" y1=\"18\" x2=\"28\" y2=\"138\" />\n",
       "  <line x1=\"29\" y1=\"19\" x2=\"29\" y2=\"139\" />\n",
       "  <line x1=\"31\" y1=\"21\" x2=\"31\" y2=\"141\" />\n",
       "  <line x1=\"33\" y1=\"23\" x2=\"33\" y2=\"143\" />\n",
       "  <line x1=\"34\" y1=\"24\" x2=\"34\" y2=\"144\" />\n",
       "  <line x1=\"36\" y1=\"26\" x2=\"36\" y2=\"146\" />\n",
       "  <line x1=\"37\" y1=\"27\" x2=\"37\" y2=\"147\" />\n",
       "  <line x1=\"39\" y1=\"29\" x2=\"39\" y2=\"149\" style=\"stroke-width:2\" />\n",
       "\n",
       "  <!-- Colored Rectangle -->\n",
       "  <polygon points=\"10.0,0.0 39.43447649330002,29.434476493300018 39.43447649330002,149.43447649330002 10.0,120.0\" style=\"fill:#8B4903A0;stroke-width:0\"/>\n",
       "\n",
       "  <!-- Horizontal lines -->\n",
       "  <line x1=\"10\" y1=\"0\" x2=\"105\" y2=\"0\" style=\"stroke-width:2\" />\n",
       "  <line x1=\"11\" y1=\"1\" x2=\"107\" y2=\"1\" />\n",
       "  <line x1=\"12\" y1=\"2\" x2=\"108\" y2=\"2\" />\n",
       "  <line x1=\"14\" y1=\"4\" x2=\"110\" y2=\"4\" />\n",
       "  <line x1=\"15\" y1=\"5\" x2=\"111\" y2=\"5\" />\n",
       "  <line x1=\"17\" y1=\"7\" x2=\"113\" y2=\"7\" />\n",
       "  <line x1=\"19\" y1=\"9\" x2=\"115\" y2=\"9\" />\n",
       "  <line x1=\"20\" y1=\"10\" x2=\"116\" y2=\"10\" />\n",
       "  <line x1=\"22\" y1=\"12\" x2=\"118\" y2=\"12\" />\n",
       "  <line x1=\"23\" y1=\"13\" x2=\"119\" y2=\"13\" />\n",
       "  <line x1=\"25\" y1=\"15\" x2=\"121\" y2=\"15\" />\n",
       "  <line x1=\"26\" y1=\"16\" x2=\"122\" y2=\"16\" />\n",
       "  <line x1=\"28\" y1=\"18\" x2=\"124\" y2=\"18\" />\n",
       "  <line x1=\"29\" y1=\"19\" x2=\"125\" y2=\"19\" />\n",
       "  <line x1=\"31\" y1=\"21\" x2=\"127\" y2=\"21\" />\n",
       "  <line x1=\"33\" y1=\"23\" x2=\"129\" y2=\"23\" />\n",
       "  <line x1=\"34\" y1=\"24\" x2=\"130\" y2=\"24\" />\n",
       "  <line x1=\"36\" y1=\"26\" x2=\"132\" y2=\"26\" />\n",
       "  <line x1=\"37\" y1=\"27\" x2=\"133\" y2=\"27\" />\n",
       "  <line x1=\"39\" y1=\"29\" x2=\"135\" y2=\"29\" style=\"stroke-width:2\" />\n",
       "\n",
       "  <!-- Vertical lines -->\n",
       "  <line x1=\"10\" y1=\"0\" x2=\"39\" y2=\"29\" style=\"stroke-width:2\" />\n",
       "  <line x1=\"105\" y1=\"0\" x2=\"135\" y2=\"29\" style=\"stroke-width:2\" />\n",
       "\n",
       "  <!-- Colored Rectangle -->\n",
       "  <polygon points=\"10.0,0.0 105.9073359073359,0.0 135.34181240063592,29.434476493300018 39.43447649330002,29.434476493300018\" style=\"fill:#8B4903A0;stroke-width:0\"/>\n",
       "\n",
       "  <!-- Horizontal lines -->\n",
       "  <line x1=\"39\" y1=\"29\" x2=\"135\" y2=\"29\" style=\"stroke-width:2\" />\n",
       "  <line x1=\"39\" y1=\"149\" x2=\"135\" y2=\"149\" style=\"stroke-width:2\" />\n",
       "\n",
       "  <!-- Vertical lines -->\n",
       "  <line x1=\"39\" y1=\"29\" x2=\"39\" y2=\"149\" style=\"stroke-width:2\" />\n",
       "  <line x1=\"135\" y1=\"29\" x2=\"135\" y2=\"149\" style=\"stroke-width:2\" />\n",
       "\n",
       "  <!-- Colored Rectangle -->\n",
       "  <polygon points=\"39.43447649330002,29.434476493300018 135.34181240063592,29.434476493300018 135.34181240063592,149.43447649330002 39.43447649330002,149.43447649330002\" style=\"fill:#ECB172A0;stroke-width:0\"/>\n",
       "\n",
       "  <!-- Text -->\n",
       "  <text x=\"87.388144\" y=\"169.434476\" font-size=\"1.0rem\" font-weight=\"100\" text-anchor=\"middle\" >207</text>\n",
       "  <text x=\"155.341812\" y=\"89.434476\" font-size=\"1.0rem\" font-weight=\"100\" text-anchor=\"middle\" transform=\"rotate(-90,155.341812,89.434476)\">259</text>\n",
       "  <text x=\"14.717238\" y=\"154.717238\" font-size=\"1.0rem\" font-weight=\"100\" text-anchor=\"middle\" transform=\"rotate(45,14.717238,154.717238)\">108</text>\n",
       "</svg>\n",
       "        </td>\n",
       "    </tr>\n",
       "</table></div></div></li><li class='xr-section-item'><input id='section-a0e13dfa-f53a-4e75-8f33-fc8c856e1eab' class='xr-section-summary-in' type='checkbox'  checked><label for='section-a0e13dfa-f53a-4e75-8f33-fc8c856e1eab' class='xr-section-summary' >Coordinates: <span>(4)</span></label><div class='xr-section-inline-details'></div><div class='xr-section-details'><ul class='xr-var-list'><li class='xr-var-item'><div class='xr-var-name'><span class='xr-has-index'>y</span></div><div class='xr-var-dims'>(y)</div><div class='xr-var-dtype'>float64</div><div class='xr-var-preview xr-preview'>2.459e+06 2.459e+06 ... 2.448e+06</div><input id='attrs-5edbfa7e-b689-4363-9e15-e932b7a3911e' class='xr-var-attrs-in' type='checkbox' ><label for='attrs-5edbfa7e-b689-4363-9e15-e932b7a3911e' title='Show/Hide attributes'><svg class='icon xr-icon-file-text2'><use xlink:href='#icon-file-text2'></use></svg></label><input id='data-a2baaa08-cef9-4e83-8b35-db17481e4e1b' class='xr-var-data-in' type='checkbox'><label for='data-a2baaa08-cef9-4e83-8b35-db17481e4e1b' title='Show/Hide data repr'><svg class='icon xr-icon-database'><use xlink:href='#icon-database'></use></svg></label><div class='xr-var-attrs'><dl class='xr-attrs'><dt><span>units :</span></dt><dd>metre</dd><dt><span>resolution :</span></dt><dd>-40.0</dd><dt><span>crs :</span></dt><dd>PROJCS[&quot;ETRS89-extended / LAEA Europe&quot;,GEOGCS[&quot;ETRS89&quot;,DATUM[&quot;European_Terrestrial_Reference_System_1989&quot;,SPHEROID[&quot;GRS 1980&quot;,6378137,298.257222101,AUTHORITY[&quot;EPSG&quot;,&quot;7019&quot;]],AUTHORITY[&quot;EPSG&quot;,&quot;6258&quot;]],PRIMEM[&quot;Greenwich&quot;,0,AUTHORITY[&quot;EPSG&quot;,&quot;8901&quot;]],UNIT[&quot;degree&quot;,0.0174532925199433,AUTHORITY[&quot;EPSG&quot;,&quot;9122&quot;]],AUTHORITY[&quot;EPSG&quot;,&quot;4258&quot;]],PROJECTION[&quot;Lambert_Azimuthal_Equal_Area&quot;],PARAMETER[&quot;latitude_of_center&quot;,52],PARAMETER[&quot;longitude_of_center&quot;,10],PARAMETER[&quot;false_easting&quot;,4321000],PARAMETER[&quot;false_northing&quot;,3210000],UNIT[&quot;metre&quot;,1,AUTHORITY[&quot;EPSG&quot;,&quot;9001&quot;]],AXIS[&quot;Northing&quot;,NORTH],AXIS[&quot;Easting&quot;,EAST],AUTHORITY[&quot;EPSG&quot;,&quot;3035&quot;]]</dd><dt><span>axis :</span></dt><dd>Y</dd><dt><span>long_name :</span></dt><dd>y coordinate of projection</dd><dt><span>standard_name :</span></dt><dd>projection_y_coordinate</dd></dl></div><div class='xr-var-data'><pre>array([2458740., 2458700., 2458660., ..., 2448500., 2448460., 2448420.])</pre></div></li><li class='xr-var-item'><div class='xr-var-name'><span class='xr-has-index'>x</span></div><div class='xr-var-dims'>(x)</div><div class='xr-var-dtype'>float64</div><div class='xr-var-preview xr-preview'>3.426e+06 3.426e+06 ... 3.435e+06</div><input id='attrs-46f4b595-e3c7-4f96-9ae8-edc4a0893baf' class='xr-var-attrs-in' type='checkbox' ><label for='attrs-46f4b595-e3c7-4f96-9ae8-edc4a0893baf' title='Show/Hide attributes'><svg class='icon xr-icon-file-text2'><use xlink:href='#icon-file-text2'></use></svg></label><input id='data-f16e412b-7c70-4edf-af85-aea41817a945' class='xr-var-data-in' type='checkbox'><label for='data-f16e412b-7c70-4edf-af85-aea41817a945' title='Show/Hide data repr'><svg class='icon xr-icon-database'><use xlink:href='#icon-database'></use></svg></label><div class='xr-var-attrs'><dl class='xr-attrs'><dt><span>units :</span></dt><dd>metre</dd><dt><span>resolution :</span></dt><dd>40.0</dd><dt><span>crs :</span></dt><dd>PROJCS[&quot;ETRS89-extended / LAEA Europe&quot;,GEOGCS[&quot;ETRS89&quot;,DATUM[&quot;European_Terrestrial_Reference_System_1989&quot;,SPHEROID[&quot;GRS 1980&quot;,6378137,298.257222101,AUTHORITY[&quot;EPSG&quot;,&quot;7019&quot;]],AUTHORITY[&quot;EPSG&quot;,&quot;6258&quot;]],PRIMEM[&quot;Greenwich&quot;,0,AUTHORITY[&quot;EPSG&quot;,&quot;8901&quot;]],UNIT[&quot;degree&quot;,0.0174532925199433,AUTHORITY[&quot;EPSG&quot;,&quot;9122&quot;]],AUTHORITY[&quot;EPSG&quot;,&quot;4258&quot;]],PROJECTION[&quot;Lambert_Azimuthal_Equal_Area&quot;],PARAMETER[&quot;latitude_of_center&quot;,52],PARAMETER[&quot;longitude_of_center&quot;,10],PARAMETER[&quot;false_easting&quot;,4321000],PARAMETER[&quot;false_northing&quot;,3210000],UNIT[&quot;metre&quot;,1,AUTHORITY[&quot;EPSG&quot;,&quot;9001&quot;]],AXIS[&quot;Northing&quot;,NORTH],AXIS[&quot;Easting&quot;,EAST],AUTHORITY[&quot;EPSG&quot;,&quot;3035&quot;]]</dd><dt><span>axis :</span></dt><dd>X</dd><dt><span>long_name :</span></dt><dd>x coordinate of projection</dd><dt><span>standard_name :</span></dt><dd>projection_x_coordinate</dd></dl></div><div class='xr-var-data'><pre>array([3426460., 3426500., 3426540., ..., 3434620., 3434660., 3434700.])</pre></div></li><li class='xr-var-item'><div class='xr-var-name'><span class='xr-has-index'>time</span></div><div class='xr-var-dims'>(time)</div><div class='xr-var-dtype'>datetime64[ns]</div><div class='xr-var-preview xr-preview'>2016-03-18T11:11:02.030000 ... 2...</div><input id='attrs-5ee5bdf3-7f80-41ad-bf53-7e9d0a00f05e' class='xr-var-attrs-in' type='checkbox' disabled><label for='attrs-5ee5bdf3-7f80-41ad-bf53-7e9d0a00f05e' title='Show/Hide attributes'><svg class='icon xr-icon-file-text2'><use xlink:href='#icon-file-text2'></use></svg></label><input id='data-ab6c75c5-01f0-411c-afe4-fa16ed5e9803' class='xr-var-data-in' type='checkbox'><label for='data-ab6c75c5-01f0-411c-afe4-fa16ed5e9803' title='Show/Hide data repr'><svg class='icon xr-icon-database'><use xlink:href='#icon-database'></use></svg></label><div class='xr-var-attrs'><dl class='xr-attrs'></dl></div><div class='xr-var-data'><pre>array([&#x27;2016-03-18T11:11:02.030000000&#x27;, &#x27;2016-03-22T10:50:42.030000000&#x27;,\n",
       "       &#x27;2016-04-27T11:06:22.028000000&#x27;, &#x27;2016-05-01T10:50:32.029000000&#x27;,\n",
       "       &#x27;2016-05-04T10:56:22.027000000&#x27;, &#x27;2016-07-06T11:06:52.026000000&#x27;,\n",
       "       &#x27;2016-07-16T11:06:22.026000000&#x27;, &#x27;2016-08-12T10:56:22.026000000&#x27;,\n",
       "       &#x27;2016-08-22T10:56:52.026000000&#x27;, &#x27;2016-10-21T11:01:02.027000000&#x27;,\n",
       "       &#x27;2016-10-31T11:02:02.026000000&#x27;, &#x27;2016-11-30T11:04:22.026000000&#x27;,\n",
       "       &#x27;2017-02-18T11:01:11.026000000&#x27;, &#x27;2017-03-10T10:58:41.026000000&#x27;,\n",
       "       &#x27;2017-04-09T10:56:51.026000000&#x27;, &#x27;2017-04-19T10:56:21.026000000&#x27;,\n",
       "       &#x27;2017-06-18T10:56:21.026000000&#x27;, &#x27;2017-08-02T10:56:49.027000000&#x27;,\n",
       "       &#x27;2017-10-06T10:59:41.026000000&#x27;, &#x27;2017-10-16T11:00:31.026000000&#x27;,\n",
       "       &#x27;2017-10-31T11:01:49.027000000&#x27;, &#x27;2018-04-19T10:56:19.027000000&#x27;,\n",
       "       &#x27;2018-04-24T10:56:51.024000000&#x27;, &#x27;2018-05-04T10:56:21.024000000&#x27;,\n",
       "       &#x27;2018-06-23T10:56:21.024000000&#x27;, &#x27;2018-07-08T10:56:19.024000000&#x27;,\n",
       "       &#x27;2018-07-13T10:56:21.024000000&#x27;, &#x27;2018-07-23T10:56:21.024000000&#x27;,\n",
       "       &#x27;2018-08-02T10:56:21.024000000&#x27;, &#x27;2018-08-12T10:56:21.024000000&#x27;,\n",
       "       &#x27;2018-08-22T10:56:21.024000000&#x27;, &#x27;2018-09-01T10:56:21.024000000&#x27;,\n",
       "       &#x27;2018-09-11T10:56:21.024000000&#x27;, &#x27;2018-09-26T11:00:29.024000000&#x27;,\n",
       "       &#x27;2018-10-16T11:00:29.024000000&#x27;, &#x27;2018-11-15T11:03:19.024000000&#x27;,\n",
       "       &#x27;2019-02-03T11:02:49.024000000&#x27;, &#x27;2019-02-13T11:01:49.024000000&#x27;,\n",
       "       &#x27;2019-02-23T11:00:39.024000000&#x27;, &#x27;2019-03-20T10:57:41.024000000&#x27;,\n",
       "       &#x27;2019-03-25T10:57:09.024000000&#x27;, &#x27;2019-03-30T10:56:31.024000000&#x27;,\n",
       "       &#x27;2019-04-09T10:56:21.024000000&#x27;, &#x27;2019-06-13T10:56:29.024000000&#x27;,\n",
       "       &#x27;2019-07-08T10:56:21.024000000&#x27;, &#x27;2019-07-13T10:56:29.024000000&#x27;,\n",
       "       &#x27;2019-07-23T10:56:29.024000000&#x27;, &#x27;2019-08-02T10:56:29.024000000&#x27;,\n",
       "       &#x27;2019-08-22T10:56:29.024000000&#x27;, &#x27;2019-09-16T10:57:01.024000000&#x27;,\n",
       "       &#x27;2019-10-11T10:59:59.024000000&#x27;, &#x27;2019-12-05T11:04:31.024000000&#x27;,\n",
       "       &#x27;2019-12-30T11:03:49.024000000&#x27;, &#x27;2020-01-19T11:02:59.024000000&#x27;,\n",
       "       &#x27;2020-02-03T11:02:41.024000000&#x27;, &#x27;2020-03-24T10:57:11.024000000&#x27;,\n",
       "       &#x27;2020-04-03T10:56:21.025000000&#x27;, &#x27;2020-05-18T10:56:19.024000000&#x27;,\n",
       "       &#x27;2020-05-28T10:56:19.024000000&#x27;, &#x27;2020-06-22T10:56:31.024000000&#x27;,\n",
       "       &#x27;2020-07-27T10:56:19.024000000&#x27;, &#x27;2020-08-06T10:56:19.024000000&#x27;,\n",
       "       &#x27;2020-09-10T10:56:31.025000000&#x27;, &#x27;2020-10-30T11:02:11.024000000&#x27;,\n",
       "       &#x27;2020-11-29T11:04:21.024000000&#x27;, &#x27;2021-01-08T11:04:31.024000000&#x27;,\n",
       "       &#x27;2021-02-17T11:01:21.024000000&#x27;, &#x27;2021-02-27T11:00:11.024000000&#x27;,\n",
       "       &#x27;2021-03-04T10:58:39.024000000&#x27;, &#x27;2021-03-24T10:56:39.024000000&#x27;,\n",
       "       &#x27;2021-03-29T10:56:31.024000000&#x27;, &#x27;2021-04-03T10:56:19.024000000&#x27;,\n",
       "       &#x27;2021-04-08T10:56:21.024000000&#x27;, &#x27;2021-04-23T10:56:19.024000000&#x27;,\n",
       "       &#x27;2021-05-03T10:56:19.024000000&#x27;, &#x27;2021-07-17T10:56:21.024000000&#x27;,\n",
       "       &#x27;2021-08-11T10:56:19.024000000&#x27;, &#x27;2021-08-26T10:56:21.024000000&#x27;,\n",
       "       &#x27;2021-08-31T10:56:19.024000000&#x27;, &#x27;2021-09-05T10:56:21.024000000&#x27;,\n",
       "       &#x27;2021-09-30T10:57:49.024000000&#x27;, &#x27;2021-10-10T10:58:59.024000000&#x27;,\n",
       "       &#x27;2021-11-09T11:01:59.024000000&#x27;, &#x27;2022-01-23T11:03:41.024000000&#x27;,\n",
       "       &#x27;2022-03-24T10:57:21.024000000&#x27;, &#x27;2022-05-28T10:56:19.024000000&#x27;,\n",
       "       &#x27;2022-07-02T10:56:31.024000000&#x27;, &#x27;2022-07-07T10:56:29.024000000&#x27;,\n",
       "       &#x27;2022-07-12T10:56:31.024000000&#x27;, &#x27;2022-07-17T10:56:29.024000000&#x27;,\n",
       "       &#x27;2022-08-01T10:56:31.024000000&#x27;, &#x27;2022-08-06T10:56:29.024000000&#x27;,\n",
       "       &#x27;2022-09-05T10:56:19.024000000&#x27;, &#x27;2022-09-20T10:57:41.025000000&#x27;,\n",
       "       &#x27;2023-02-12T11:00:59.024000000&#x27;, &#x27;2023-07-27T10:56:21.024000000&#x27;,\n",
       "       &#x27;2023-08-21T10:56:29.024000000&#x27;, &#x27;2023-09-05T10:56:21.024000000&#x27;,\n",
       "       &#x27;2023-09-25T10:58:01.024000000&#x27;, &#x27;2023-09-30T10:57:49.024000000&#x27;,\n",
       "       &#x27;2023-10-10T10:58:59.024000000&#x27;, &#x27;2024-03-13T10:58:31.024000000&#x27;,\n",
       "       &#x27;2024-04-12T10:56:21.024000000&#x27;, &#x27;2024-06-26T10:56:19.024000000&#x27;,\n",
       "       &#x27;2024-08-05T10:56:19.024000000&#x27;, &#x27;2024-08-10T10:56:21.024000000&#x27;,\n",
       "       &#x27;2024-10-24T11:00:39.024000000&#x27;, &#x27;2024-11-28T11:04:11.024000000&#x27;],\n",
       "      dtype=&#x27;datetime64[ns]&#x27;)</pre></div></li><li class='xr-var-item'><div class='xr-var-name'><span>spatial_ref</span></div><div class='xr-var-dims'>()</div><div class='xr-var-dtype'>int64</div><div class='xr-var-preview xr-preview'>0</div><input id='attrs-e26b7bba-af38-441e-ab7e-306c1efc9613' class='xr-var-attrs-in' type='checkbox' ><label for='attrs-e26b7bba-af38-441e-ab7e-306c1efc9613' title='Show/Hide attributes'><svg class='icon xr-icon-file-text2'><use xlink:href='#icon-file-text2'></use></svg></label><input id='data-96503ab9-60e0-4a15-b305-106131fa3b4e' class='xr-var-data-in' type='checkbox'><label for='data-96503ab9-60e0-4a15-b305-106131fa3b4e' title='Show/Hide data repr'><svg class='icon xr-icon-database'><use xlink:href='#icon-database'></use></svg></label><div class='xr-var-attrs'><dl class='xr-attrs'><dt><span>crs_wkt :</span></dt><dd>PROJCS[&quot;ETRS89-extended / LAEA Europe&quot;,GEOGCS[&quot;ETRS89&quot;,DATUM[&quot;European_Terrestrial_Reference_System_1989&quot;,SPHEROID[&quot;GRS 1980&quot;,6378137,298.257222101,AUTHORITY[&quot;EPSG&quot;,&quot;7019&quot;]],AUTHORITY[&quot;EPSG&quot;,&quot;6258&quot;]],PRIMEM[&quot;Greenwich&quot;,0,AUTHORITY[&quot;EPSG&quot;,&quot;8901&quot;]],UNIT[&quot;degree&quot;,0.0174532925199433,AUTHORITY[&quot;EPSG&quot;,&quot;9122&quot;]],AUTHORITY[&quot;EPSG&quot;,&quot;4258&quot;]],PROJECTION[&quot;Lambert_Azimuthal_Equal_Area&quot;],PARAMETER[&quot;latitude_of_center&quot;,52],PARAMETER[&quot;longitude_of_center&quot;,10],PARAMETER[&quot;false_easting&quot;,4321000],PARAMETER[&quot;false_northing&quot;,3210000],UNIT[&quot;metre&quot;,1,AUTHORITY[&quot;EPSG&quot;,&quot;9001&quot;]],AXIS[&quot;Northing&quot;,NORTH],AXIS[&quot;Easting&quot;,EAST],AUTHORITY[&quot;EPSG&quot;,&quot;3035&quot;]]</dd><dt><span>semi_major_axis :</span></dt><dd>6378137.0</dd><dt><span>semi_minor_axis :</span></dt><dd>6356752.314140356</dd><dt><span>inverse_flattening :</span></dt><dd>298.257222101</dd><dt><span>reference_ellipsoid_name :</span></dt><dd>GRS 1980</dd><dt><span>longitude_of_prime_meridian :</span></dt><dd>0.0</dd><dt><span>prime_meridian_name :</span></dt><dd>Greenwich</dd><dt><span>geographic_crs_name :</span></dt><dd>ETRS89</dd><dt><span>horizontal_datum_name :</span></dt><dd>European Terrestrial Reference System 1989</dd><dt><span>projected_crs_name :</span></dt><dd>ETRS89-extended / LAEA Europe</dd><dt><span>grid_mapping_name :</span></dt><dd>lambert_azimuthal_equal_area</dd><dt><span>latitude_of_projection_origin :</span></dt><dd>52.0</dd><dt><span>longitude_of_projection_origin :</span></dt><dd>10.0</dd><dt><span>false_easting :</span></dt><dd>4321000.0</dd><dt><span>false_northing :</span></dt><dd>3210000.0</dd><dt><span>spatial_ref :</span></dt><dd>PROJCS[&quot;ETRS89-extended / LAEA Europe&quot;,GEOGCS[&quot;ETRS89&quot;,DATUM[&quot;European_Terrestrial_Reference_System_1989&quot;,SPHEROID[&quot;GRS 1980&quot;,6378137,298.257222101,AUTHORITY[&quot;EPSG&quot;,&quot;7019&quot;]],AUTHORITY[&quot;EPSG&quot;,&quot;6258&quot;]],PRIMEM[&quot;Greenwich&quot;,0,AUTHORITY[&quot;EPSG&quot;,&quot;8901&quot;]],UNIT[&quot;degree&quot;,0.0174532925199433,AUTHORITY[&quot;EPSG&quot;,&quot;9122&quot;]],AUTHORITY[&quot;EPSG&quot;,&quot;4258&quot;]],PROJECTION[&quot;Lambert_Azimuthal_Equal_Area&quot;],PARAMETER[&quot;latitude_of_center&quot;,52],PARAMETER[&quot;longitude_of_center&quot;,10],PARAMETER[&quot;false_easting&quot;,4321000],PARAMETER[&quot;false_northing&quot;,3210000],UNIT[&quot;metre&quot;,1,AUTHORITY[&quot;EPSG&quot;,&quot;9001&quot;]],AXIS[&quot;Northing&quot;,NORTH],AXIS[&quot;Easting&quot;,EAST],AUTHORITY[&quot;EPSG&quot;,&quot;3035&quot;]]</dd><dt><span>GeoTransform :</span></dt><dd>3426440.0 40.0 0.0 2458760.0 0.0 -40.0</dd></dl></div><div class='xr-var-data'><pre>array(0)</pre></div></li></ul></div></li><li class='xr-section-item'><input id='section-49af7f2d-c506-4e72-b56d-37000b511426' class='xr-section-summary-in' type='checkbox'  ><label for='section-49af7f2d-c506-4e72-b56d-37000b511426' class='xr-section-summary' >Indexes: <span>(3)</span></label><div class='xr-section-inline-details'></div><div class='xr-section-details'><ul class='xr-var-list'><li class='xr-var-item'><div class='xr-index-name'><div>y</div></div><div class='xr-index-preview'>PandasIndex</div><input type='checkbox' disabled/><label></label><input id='index-0fd588c3-220a-49d3-a564-7bbcd45e3f9f' class='xr-index-data-in' type='checkbox'/><label for='index-0fd588c3-220a-49d3-a564-7bbcd45e3f9f' title='Show/Hide index repr'><svg class='icon xr-icon-database'><use xlink:href='#icon-database'></use></svg></label><div class='xr-index-data'><pre>PandasIndex(Index([2458740.0, 2458700.0, 2458660.0, 2458620.0, 2458580.0, 2458540.0,\n",
       "       2458500.0, 2458460.0, 2458420.0, 2458380.0,\n",
       "       ...\n",
       "       2448780.0, 2448740.0, 2448700.0, 2448660.0, 2448620.0, 2448580.0,\n",
       "       2448540.0, 2448500.0, 2448460.0, 2448420.0],\n",
       "      dtype=&#x27;float64&#x27;, name=&#x27;y&#x27;, length=259))</pre></div></li><li class='xr-var-item'><div class='xr-index-name'><div>x</div></div><div class='xr-index-preview'>PandasIndex</div><input type='checkbox' disabled/><label></label><input id='index-9d0c820c-bcad-4ac3-9fb5-32df93d92bd3' class='xr-index-data-in' type='checkbox'/><label for='index-9d0c820c-bcad-4ac3-9fb5-32df93d92bd3' title='Show/Hide index repr'><svg class='icon xr-icon-database'><use xlink:href='#icon-database'></use></svg></label><div class='xr-index-data'><pre>PandasIndex(Index([3426460.0, 3426500.0, 3426540.0, 3426580.0, 3426620.0, 3426660.0,\n",
       "       3426700.0, 3426740.0, 3426780.0, 3426820.0,\n",
       "       ...\n",
       "       3434340.0, 3434380.0, 3434420.0, 3434460.0, 3434500.0, 3434540.0,\n",
       "       3434580.0, 3434620.0, 3434660.0, 3434700.0],\n",
       "      dtype=&#x27;float64&#x27;, name=&#x27;x&#x27;, length=207))</pre></div></li><li class='xr-var-item'><div class='xr-index-name'><div>time</div></div><div class='xr-index-preview'>PandasIndex</div><input type='checkbox' disabled/><label></label><input id='index-ab41b503-6ad9-476d-a36d-b25be82c77c3' class='xr-index-data-in' type='checkbox'/><label for='index-ab41b503-6ad9-476d-a36d-b25be82c77c3' title='Show/Hide index repr'><svg class='icon xr-icon-database'><use xlink:href='#icon-database'></use></svg></label><div class='xr-index-data'><pre>PandasIndex(DatetimeIndex([&#x27;2016-03-18 11:11:02.030000&#x27;, &#x27;2016-03-22 10:50:42.030000&#x27;,\n",
       "               &#x27;2016-04-27 11:06:22.028000&#x27;, &#x27;2016-05-01 10:50:32.029000&#x27;,\n",
       "               &#x27;2016-05-04 10:56:22.027000&#x27;, &#x27;2016-07-06 11:06:52.026000&#x27;,\n",
       "               &#x27;2016-07-16 11:06:22.026000&#x27;, &#x27;2016-08-12 10:56:22.026000&#x27;,\n",
       "               &#x27;2016-08-22 10:56:52.026000&#x27;, &#x27;2016-10-21 11:01:02.027000&#x27;,\n",
       "               ...\n",
       "               &#x27;2023-09-25 10:58:01.024000&#x27;, &#x27;2023-09-30 10:57:49.024000&#x27;,\n",
       "               &#x27;2023-10-10 10:58:59.024000&#x27;, &#x27;2024-03-13 10:58:31.024000&#x27;,\n",
       "               &#x27;2024-04-12 10:56:21.024000&#x27;, &#x27;2024-06-26 10:56:19.024000&#x27;,\n",
       "               &#x27;2024-08-05 10:56:19.024000&#x27;, &#x27;2024-08-10 10:56:21.024000&#x27;,\n",
       "               &#x27;2024-10-24 11:00:39.024000&#x27;, &#x27;2024-11-28 11:04:11.024000&#x27;],\n",
       "              dtype=&#x27;datetime64[ns]&#x27;, name=&#x27;time&#x27;, length=108, freq=None))</pre></div></li></ul></div></li><li class='xr-section-item'><input id='section-60e19bee-9e1b-42f5-8080-ec8583c696e7' class='xr-section-summary-in' type='checkbox' disabled ><label for='section-60e19bee-9e1b-42f5-8080-ec8583c696e7' class='xr-section-summary'  title='Expand/collapse section'>Attributes: <span>(0)</span></label><div class='xr-section-inline-details'></div><div class='xr-section-details'><dl class='xr-attrs'></dl></div></li></ul></div></div>"
      ],
      "text/plain": [
       "<xarray.DataArray 'SCL' (time: 108, y: 259, x: 207)> Size: 6MB\n",
       "dask.array<any-aggregate, shape=(108, 259, 207), dtype=bool, chunksize=(1, 259, 207), chunktype=numpy.ndarray>\n",
       "Coordinates:\n",
       "  * y            (y) float64 2kB 2.459e+06 2.459e+06 ... 2.448e+06 2.448e+06\n",
       "  * x            (x) float64 2kB 3.426e+06 3.426e+06 ... 3.435e+06 3.435e+06\n",
       "  * time         (time) datetime64[ns] 864B 2016-03-18T11:11:02.030000 ... 20...\n",
       "    spatial_ref  int64 8B 0"
      ]
     },
     "execution_count": 11,
     "metadata": {},
     "output_type": "execute_result"
    }
   ],
   "source": [
    "ts_S2.mask"
   ]
  },
  {
   "cell_type": "markdown",
   "metadata": {
    "id": "yL4w3nH3DBif"
   },
   "source": [
    "We can apply the mask on the Satellite Image Time Series with the method `StacAttack.mask()`."
   ]
  },
  {
   "cell_type": "code",
   "execution_count": 12,
   "metadata": {
    "executionInfo": {
     "elapsed": 6,
     "status": "ok",
     "timestamp": 1737993825724,
     "user": {
      "displayName": "Kenji Ose",
      "userId": "04036279333112259084"
     },
     "user_tz": -60
    },
    "id": "yc0PlMDwDbm4"
   },
   "outputs": [],
   "source": [
    "ts_S2.mask_apply()"
   ]
  },
  {
   "cell_type": "markdown",
   "metadata": {
    "id": "z0d8AN0vH1gJ"
   },
   "source": [
    "### 3.3. Gap filling the masked pixels\n",
    "\n",
    "We interpolate in time the masked pixels (NaN values). The method `StacAttack.gapfill()` relies on the `xarray.DataArray.interpolate_na`. By default the linear interpolation is used but you can try another one (see the related [documentation](https://docs.xarray.dev/en/stable/generated/xarray.DataArray.interpolate_na.html)). As the interpolation needs backward and forward values, the first and the last images are not processed. To avoid this, the method `StacAttack.gapfill()` also call the methods `xarray.DataArray.bfill` and `xarray.DataArray.ffill`. You can disable this by passing the argument `first_last=False`."
   ]
  },
  {
   "cell_type": "code",
   "execution_count": 13,
   "metadata": {
    "colab": {
     "base_uri": "https://localhost:8080/"
    },
    "executionInfo": {
     "elapsed": 371,
     "status": "ok",
     "timestamp": 1737993826090,
     "user": {
      "displayName": "Kenji Ose",
      "userId": "04036279333112259084"
     },
     "user_tz": -60
    },
    "id": "abVnpK81Nxp-",
    "outputId": "95d921a4-634e-4787-a409-1b766ae8edbd"
   },
   "outputs": [
    {
     "name": "stdout",
     "output_type": "stream",
     "text": [
      "CPU times: user 55.1 ms, sys: 5.74 ms, total: 60.8 ms\n",
      "Wall time: 61.6 ms\n"
     ]
    }
   ],
   "source": [
    "%%time\n",
    "\n",
    "ts_S2.gapfill()"
   ]
  },
  {
   "cell_type": "markdown",
   "metadata": {
    "id": "WfB2EW1BOJss"
   },
   "source": [
    "## 4. Saving the Datacube as a file\n",
    "\n",
    "### 4.1. Default export\n",
    "\n",
    "It is possible to export the Datacube in NetCDF (Network Common Data Form) or in CSV (Comma-Separated Values).\n"
   ]
  },
  {
   "cell_type": "code",
   "execution_count": 14,
   "metadata": {
    "colab": {
     "base_uri": "https://localhost:8080/"
    },
    "executionInfo": {
     "elapsed": 119395,
     "status": "ok",
     "timestamp": 1737993945482,
     "user": {
      "displayName": "Kenji Ose",
      "userId": "04036279333112259084"
     },
     "user_tz": -60
    },
    "id": "ZPdy6QLJ6X-w",
    "outputId": "f4324cd1-91b9-4d9a-ac02-aed46b09449a"
   },
   "outputs": [
    {
     "name": "stdout",
     "output_type": "stream",
     "text": [
      "CPU times: user 45.7 s, sys: 12.6 s, total: 58.3 s\n",
      "Wall time: 25 s\n"
     ]
    }
   ],
   "source": [
    "%%time\n",
    "\n",
    "# export to NETcdf\n",
    "ts_S2.to_nc(data_dir)\n",
    "\n",
    "#export to csv\n",
    "#ts_S2.to_csv(data_dir)"
   ]
  },
  {
   "cell_type": "markdown",
   "metadata": {
    "id": "v7bhSKuOV0XH"
   },
   "source": [
    "The output filename is automaticaly made with the following syntax:\n",
    "```sh\n",
    "fid-<gid>_<array type>_<start date>-<end date>.nc\n",
    "```\n"
   ]
  },
  {
   "cell_type": "code",
   "execution_count": 15,
   "metadata": {
    "colab": {
     "base_uri": "https://localhost:8080/"
    },
    "executionInfo": {
     "elapsed": 5,
     "status": "ok",
     "timestamp": 1737993945482,
     "user": {
      "displayName": "Kenji Ose",
      "userId": "04036279333112259084"
     },
     "user_tz": -60
    },
    "id": "aK0_c8Ytva6m",
    "outputId": "29b76f74-5865-43a1-aa04-2233e8647e17"
   },
   "outputs": [
    {
     "name": "stdout",
     "output_type": "stream",
     "text": [
      "CPU times: user 424 µs, sys: 1.09 ms, total: 1.52 ms\n",
      "Wall time: 1.17 ms\n"
     ]
    },
    {
     "data": {
      "text/plain": [
       "['fid-None_sat_image_2016-01-01 00:00:00-2025-01-01 00:00:00.nc']"
      ]
     },
     "execution_count": 15,
     "metadata": {},
     "output_type": "execute_result"
    }
   ],
   "source": [
    "%%time\n",
    "\n",
    "netcdf = [i for i in os.listdir(data_dir) if i.endswith('.nc')]\n",
    "netcdf"
   ]
  },
  {
   "cell_type": "markdown",
   "metadata": {
    "id": "_umtFUzpXRyu"
   },
   "source": [
    "## 5. Convert NetCDF file into animated GIF\n",
    "\n",
    "Last but not least... sits package allows you to export satellite time series as animated GIF, so you can easily show some phenoma that vary in time and space.\n",
    "\n",
    "### 5.1. Converting a NetCDF file into a nice-looking animation\n",
    "\n",
    "We load the newly created NetCDF file as an `xarray.Dataarray`, and choose to keep only three spectral bands in order to display color composites (RGB format). To convert the `xarray.Dataarray` object into an animated GIF, `sits` package uses in the geogif library. So it is possible to add specific arguments, not presented by default."
   ]
  },
  {
   "cell_type": "code",
   "execution_count": 16,
   "metadata": {
    "colab": {
     "base_uri": "https://localhost:8080/"
    },
    "executionInfo": {
     "elapsed": 859,
     "status": "ok",
     "timestamp": 1737993946339,
     "user": {
      "displayName": "Kenji Ose",
      "userId": "04036279333112259084"
     },
     "user_tz": -60
    },
    "id": "v907yZ0KVxsz",
    "outputId": "f55f5324-2318-4d73-cb5a-a5fb113d01f3"
   },
   "outputs": [
    {
     "name": "stdout",
     "output_type": "stream",
     "text": [
      "CPU times: user 1.69 s, sys: 358 ms, total: 2.05 s\n",
      "Wall time: 2.18 s\n"
     ]
    }
   ],
   "source": [
    "%%time\n",
    "\n",
    "netcdf_path = os.path.join(data_dir, netcdf[0])\n",
    "test = export.Sits_ds(netcdf_path)\n",
    "\n",
    "out_gif = os.path.join(data_dir, 'banc_arguin.gif')\n",
    "test.export2gif(imgfile=out_gif, fps=8, robust=True,\n",
    "                keep_bands=['B08', 'B04', 'B03'])"
   ]
  },
  {
   "cell_type": "markdown",
   "metadata": {
    "id": "J-0MPm-Gay1O"
   },
   "source": [
    "### 5.2. Improving the animation\n",
    "\n",
    "By default, the animated GIF displays only the raw images from the data array. Because the acquisition dates are irregular and the spectral differences between consecutive frames can be large, the animation often appears jerky, reminiscent of early 19th-century films.\n",
    "\n",
    "To improve visual continuity, the package provides tools to:\n",
    "\n",
    "- Regularize the temporal frequency by interpolating pixel values across time\n",
    "- Apply a blending effect to smooth transitions between frames\n",
    "\n",
    "This results in a more fluid and visually coherent animation, especially useful for presentations or exploratory analysis."
   ]
  },
  {
   "cell_type": "code",
   "execution_count": 17,
   "metadata": {
    "tags": []
   },
   "outputs": [
    {
     "name": "stdout",
     "output_type": "stream",
     "text": [
      "CPU times: user 17 s, sys: 2.85 s, total: 19.8 s\n",
      "Wall time: 20.2 s\n"
     ]
    }
   ],
   "source": [
    "%%time\n",
    "\n",
    "netcdf_path = os.path.join(data_dir, netcdf[0])\n",
    "test = export.Sits_ds(netcdf_path)\n",
    "\n",
    "test.time_interp()\n",
    "test.blender()\n",
    "\n",
    "out_gif2 = os.path.join(data_dir, 'banc_arguin_v2.gif')\n",
    "test.export2gif(imgfile=out_gif2, fps=16, robust=True,\n",
    "                keep_bands=['B08', 'B04', 'B03'])"
   ]
  },
  {
   "cell_type": "markdown",
   "metadata": {},
   "source": [
    "### 5.3. Comparing Raw vs Smoothed Time Series Animations\n",
    "\n",
    "To illustrate the impact of temporal regularization and blending, we compare two animations of the same satellite time series. The first shows the raw, irregular frames, while the second presents a smoothed version with interpolated values and softened transitions."
   ]
  },
  {
   "cell_type": "code",
   "execution_count": null,
   "metadata": {
    "tags": []
   },
   "outputs": [],
   "source": [
    "%%time\n",
    "\n",
    "from IPython.display import Image, display\n",
    "display(Image(filename=out_gif))\n",
    "display(Image(filename=out_gif2))"
   ]
  },
  {
   "cell_type": "markdown",
   "metadata": {},
   "source": [
    "<p align=\"center\">\n",
    "  <figure style=\"display:inline-block; margin:10px;\">\n",
    "    <img src=\"img/banc_arguin.gif\" alt=\"banc_arguin.gif\">\n",
    "    <figcaption style=\"text-align:center;\">Original Animation</figcaption>\n",
    "  </figure>\n",
    "  <figure style=\"display:inline-block; margin:10px;\">\n",
    "    <img src=\"img/banc_arguin_v2.gif\" alt=\"banc_arguin_v2.gif\">\n",
    "    <figcaption style=\"text-align:center;\">Smoothed Animation</figcaption>\n",
    "  </figure>\n",
    "</p>"
   ]
  }
 ],
 "metadata": {
  "colab": {
   "authorship_tag": "ABX9TyOY/EdJvwMlIy0o+1iw6fTZ",
   "provenance": []
  },
  "kernelspec": {
   "display_name": "Python 3 (ipykernel)",
   "language": "python",
   "name": "python3"
  },
  "language_info": {
   "codemirror_mode": {
    "name": "ipython",
    "version": 3
   },
   "file_extension": ".py",
   "mimetype": "text/x-python",
   "name": "python",
   "nbconvert_exporter": "python",
   "pygments_lexer": "ipython3",
   "version": "3.11.9"
  }
 },
 "nbformat": 4,
 "nbformat_minor": 4
}
