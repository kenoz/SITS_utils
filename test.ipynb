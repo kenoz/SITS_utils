{
 "cells": [
  {
   "cell_type": "code",
   "execution_count": 1,
   "id": "dbcc940b-63f8-47a1-ac1f-377b9a3038e0",
   "metadata": {
    "tags": []
   },
   "outputs": [],
   "source": [
    "import sits.SITS as sits\n",
    "import folium\n",
    "from datetime import datetime\n",
    "import time"
   ]
  },
  {
   "cell_type": "code",
   "execution_count": 2,
   "id": "695e6f01-0beb-46bd-9d3d-32e35e269cff",
   "metadata": {
    "tags": []
   },
   "outputs": [
    {
     "data": {
      "text/plain": [
       "2154"
      ]
     },
     "execution_count": 2,
     "metadata": {},
     "output_type": "execute_result"
    }
   ],
   "source": [
    "import geopandas as gpd\n",
    "import pandas as pd\n",
    "\n",
    "in_vect = \"france_barkbeetle_lite_single.geojson\"\n",
    "test_2154 = sits.Vec2gdf(in_vect)\n",
    "test_2154.gdf.crs.to_epsg()"
   ]
  },
  {
   "cell_type": "code",
   "execution_count": 3,
   "id": "c3ea8865-d537-45f4-b3c4-86975980cf1e",
   "metadata": {
    "tags": []
   },
   "outputs": [
    {
     "data": {
      "text/plain": [
       "2154"
      ]
     },
     "execution_count": 3,
     "metadata": {},
     "output_type": "execute_result"
    }
   ],
   "source": [
    "# calculates the boundiug box for each feature.\n",
    "test_2154.set_bbox('gdf')\n",
    "test_2154.bbox.crs.to_epsg()"
   ]
  },
  {
   "cell_type": "code",
   "execution_count": 4,
   "id": "f26a4bad-6af6-497c-8d2f-05b4f4a073c8",
   "metadata": {
    "tags": []
   },
   "outputs": [],
   "source": [
    "#f = folium.Figure(height=400)\n",
    "#m = folium.Map(location=[55, 0], zoom_start=3).add_to(f)\n",
    "#test_2154.gdf.explore(m=m, height=400, color='green')\n",
    "#test_2154.bbox.explore(m=m, height=400)"
   ]
  },
  {
   "cell_type": "code",
   "execution_count": 5,
   "id": "7e41e233-5ad2-4871-9048-73a197ab2c22",
   "metadata": {},
   "outputs": [
    {
     "data": {
      "text/plain": [
       "geopandas.geodataframe.GeoDataFrame"
      ]
     },
     "execution_count": 5,
     "metadata": {},
     "output_type": "execute_result"
    }
   ],
   "source": [
    "type(test_2154.bbox)"
   ]
  },
  {
   "cell_type": "code",
   "execution_count": 6,
   "id": "db165566-5769-4095-ae41-749ee106a899",
   "metadata": {
    "tags": []
   },
   "outputs": [],
   "source": [
    "test_process = test_2154.bbox.to_crs(4326)\n",
    "\n",
    "test_process = pd.concat([test_process, test_process['geometry'].bounds], axis=1)\n",
    "test_process['bbox_4326'] = test_process[['minx', 'miny', 'maxx', 'maxy']].values.tolist()\n"
   ]
  },
  {
   "cell_type": "code",
   "execution_count": 7,
   "id": "3931ff0e-a585-4231-b10d-d15735aa290f",
   "metadata": {
    "tags": []
   },
   "outputs": [
    {
     "data": {
      "text/plain": [
       "([2.8255044256228508,\n",
       "  45.634941277411386,\n",
       "  2.8260189959120745,\n",
       "  45.6353022635073],\n",
       " [3761787.7849638816,\n",
       "  2529437.8009796273,\n",
       "  3761831.262662839,\n",
       "  2529481.4105150606])"
      ]
     },
     "execution_count": 7,
     "metadata": {},
     "output_type": "execute_result"
    }
   ],
   "source": [
    "test_3035 = test_2154.bbox.to_crs(3035)\n",
    "test_3035_bounds = pd.concat([test_3035, test_3035['geometry'].bounds], axis=1)\n",
    "test_3035_bounds['bbox_3035'] = test_3035_bounds[['minx', 'miny', 'maxx', 'maxy']].values.tolist()\n",
    "\n",
    "test_process = pd.concat([test_process, test_3035_bounds['bbox_3035']], axis=1)\n",
    "test_process['bbox_tuple'] = test_process.apply(lambda row: (row['bbox_4326'], row['bbox_3035']), axis=1)\n",
    "test_process['bbox_tuple'][0]\n"
   ]
  },
  {
   "cell_type": "code",
   "execution_count": 8,
   "id": "cbc62383-9f7b-4f3d-8fac-db64b2c15947",
   "metadata": {
    "tags": []
   },
   "outputs": [],
   "source": [
    "#%%time\n",
    "\n",
    "#imgcoll = sits.StacAttack()\n",
    "#imgcoll.searchItems(total_bbox_4326, date_start=datetime(2023, 1, 1), date_end=datetime(2023, 12, 31))"
   ]
  },
  {
   "cell_type": "code",
   "execution_count": 9,
   "id": "71d52e20-5471-4338-9585-e1e956ea755e",
   "metadata": {
    "tags": []
   },
   "outputs": [],
   "source": [
    "#len(imgcoll.items)"
   ]
  },
  {
   "cell_type": "code",
   "execution_count": 10,
   "id": "f60a3757-2dae-4b9c-a821-48ba4055863f",
   "metadata": {
    "tags": []
   },
   "outputs": [],
   "source": [
    "from dask import delayed, compute"
   ]
  },
  {
   "cell_type": "code",
   "execution_count": 11,
   "id": "84774956-e884-47e7-8d27-ba67a170d94f",
   "metadata": {
    "tags": []
   },
   "outputs": [],
   "source": [
    "def f_test(aoi_bounds_latlong, aoi_bounds_proj, gid, rep):\n",
    "    # loads time-series images in EPSG:3035\n",
    "    imgcoll = sits.StacAttack()\n",
    "    imgcoll.searchItems(aoi_bounds_latlong, date_start=datetime(2023, 1, 1), date_end=datetime(2023, 12, 31))\n",
    "    imgcoll.loadImgs(aoi_bounds_proj, crs_out=3035)\n",
    "    # exports time-series into csv file and netCDF file\n",
    "    imgcoll.to_nc(f\"/eos/jeodpp/home/users/osekenj/data/temp_data/{rep}\", gid, 'image')\n"
   ]
  },
  {
   "cell_type": "code",
   "execution_count": 12,
   "id": "23280e93-4125-4f68-b100-a99b7ddd7c9c",
   "metadata": {
    "tags": []
   },
   "outputs": [
    {
     "name": "stdout",
     "output_type": "stream",
     "text": [
      "[2.8255044256228508, 45.634941277411386, 2.8260189959120745, 45.6353022635073] [3761787.7849638816, 2529437.8009796273, 3761831.262662839, 2529481.4105150606]\n",
      "[6.139293359502604, 45.587155051477055, 6.139693095432569, 45.587435718717316] [4019438.9740521642, 2504995.883254013, 4019471.590462089, 2505028.4940533843]\n",
      "[5.534088480344151, 48.46721314992736, 5.534491045898747, 48.46777132050433] [3990846.743521249, 2827079.0831763, 3990880.024332588, 2827142.598343773]\n",
      "[5.534190109814471, 48.46654256305175, 5.534504293061137, 48.467286789130924] [3990849.826223296, 2827004.636245847, 3990877.832390555, 2827088.324802132]\n",
      "[5.540081457732796, 48.46730642585579, 5.541369223500214, 48.46819730023053] [3991289.9031796386, 2827058.74595494, 3991390.4657415943, 2827163.005502219]\n",
      "[5.53690687375325, 48.463269707304995, 5.537363556439186, 48.46337336273527] [3991028.9235258377, 2826628.4510618323, 3991063.193960321, 2826641.9578250065]\n",
      "[5.190300960857002, 48.690498561289914, 5.190777139236365, 48.69089830262005] [3967053.295668171, 2853454.003526762, 3967090.996238946, 2853500.4930631756]\n",
      "[5.189857056456471, 48.69094770066975, 5.190295691758857, 48.691118465138466] [3967023.8647004236, 2853506.1117294356, 3967057.189913272, 2853527.102907303]\n",
      "[5.841259452272056, 49.45067201663928, 5.8422551918495484, 49.45112797929882] [4019577.432066314, 2934944.5341832656, 4019652.0517830993, 2934999.055088769]\n",
      "[5.84500572766051, 49.44920268271311, 5.846068646138759, 49.4500016649142] [4019839.553133474, 2934765.816373214, 4019921.141183831, 2934858.5466706147]\n",
      "[5.844412776638491, 49.448669043961814, 5.845528176251442, 49.44911017732332] [4019793.3397727082, 2934708.6873220964, 4019876.4962251536, 2934762.05659873]\n",
      "[5.841365959332257, 49.45188614422959, 5.842015194458166, 49.45233308315411] [4019592.6021670396, 2935080.3477080576, 4019642.182089403, 2935132.4464516807]\n",
      "[5.352229536484945, 49.27931948032153, 5.352512407619998, 49.279504546481945] [3983000.8162814267, 2918047.9374025525, 3983022.5589518044, 2918069.705859873]\n",
      "[5.352694984910225, 49.123772990875466, 5.353428050619722, 49.12439248171885] [3981962.454779734, 2900777.2711932636, 3982019.928758405, 2900849.1596987885]\n",
      "[5.351242389199252, 49.1231721337308, 5.351929267555112, 49.124017797059224] [3981852.4974175543, 2900717.526388063, 3981908.1821559374, 2900814.2138441512]\n",
      "[5.3521443994791795, 49.124965604105284, 5.353084273264723, 49.12570179632555] [3981930.591097652, 2900911.261677688, 3982003.8774991296, 2900997.010163027]\n",
      "[5.249904534759718, 49.12697577639001, 5.250890774825008, 49.12782389749213] [3974497.9360678005, 2901610.2962004626, 3974575.4830428255, 2901708.7366149304]\n",
      "[5.251284246714973, 49.12737902552818, 5.253592496479002, 49.12807653620294] [3974601.433749177, 2901642.3049781322, 3974773.8483221987, 2901730.3191088424]\n",
      "[5.206656552814429, 49.22539183829887, 5.20832718839607, 49.226668010918985] [3972047.8514755457, 2912735.158966215, 3972177.926102366, 2912884.225717038]\n",
      "[2.825636779786357, 45.63587454337495, 2.826151357886267, 45.636235528898915] [3761807.598486877, 2529540.0155396247, 3761851.076217835, 2529583.625105615]\n"
     ]
    }
   ],
   "source": [
    "for i in test_process['bbox_tuple'][:20]:\n",
    "    print (i[0],i[1])"
   ]
  },
  {
   "cell_type": "code",
   "execution_count": 13,
   "id": "f31566a3-5912-4ec3-907b-5c34cd56f071",
   "metadata": {},
   "outputs": [
    {
     "name": "stdout",
     "output_type": "stream",
     "text": [
      "CPU times: user 12 µs, sys: 4 µs, total: 16 µs\n",
      "Wall time: 31.7 µs\n"
     ]
    },
    {
     "data": {
      "text/plain": [
       "'\\nfor gid, i in enumerate(test_process[\\'bbox_tuple\\'][:20]):\\n    f_test(i[0], i[1], gid, \"test01\")\\n'"
      ]
     },
     "execution_count": 13,
     "metadata": {},
     "output_type": "execute_result"
    }
   ],
   "source": [
    "%%time\n",
    "#test 01\n",
    "\n",
    "\"\"\"\n",
    "for gid, i in enumerate(test_process['bbox_tuple'][:20]):\n",
    "    f_test(i[0], i[1], gid, \"test01\")\n",
    "\"\"\""
   ]
  },
  {
   "cell_type": "code",
   "execution_count": 14,
   "id": "9f3b554c-6aab-4a8d-953d-928e1a2432f9",
   "metadata": {
    "tags": []
   },
   "outputs": [
    {
     "name": "stdout",
     "output_type": "stream",
     "text": [
      "CPU times: user 0 ns, sys: 15 µs, total: 15 µs\n",
      "Wall time: 30.5 µs\n"
     ]
    },
    {
     "data": {
      "text/plain": [
       "'\\nfetch_dask = []\\n    \\nfor gid, i in enumerate(test_process[\\'bbox_tuple\\'][:20]):\\n    single = delayed(f_test)(i[0], i[1], gid, \"test02\")\\n    fetch_dask.append(single)\\n\\nresults_dask = compute(*fetch_dask)#, scheduler=\\'processes\\')\\n'"
      ]
     },
     "execution_count": 14,
     "metadata": {},
     "output_type": "execute_result"
    }
   ],
   "source": [
    "%%time\n",
    "#test 02\n",
    "\"\"\"\n",
    "fetch_dask = []\n",
    "    \n",
    "for gid, i in enumerate(test_process['bbox_tuple'][:20]):\n",
    "    single = delayed(f_test)(i[0], i[1], gid, \"test02\")\n",
    "    fetch_dask.append(single)\n",
    "\n",
    "results_dask = compute(*fetch_dask)#, scheduler='processes')\n",
    "\"\"\""
   ]
  },
  {
   "cell_type": "code",
   "execution_count": 15,
   "id": "065a2f72-bd83-4ff9-93df-a502212574ff",
   "metadata": {
    "tags": []
   },
   "outputs": [
    {
     "name": "stdout",
     "output_type": "stream",
     "text": [
      "CPU times: user 13 µs, sys: 4 µs, total: 17 µs\n",
      "Wall time: 34.1 µs\n"
     ]
    },
    {
     "data": {
      "text/plain": [
       "'\\nfetch_dask = []\\n    \\nfor gid, i in enumerate(test_process[\\'bbox_tuple\\'][:20]):\\n    single = delayed(f_test)(i[0], i[1], gid, \"test03\")\\n    fetch_dask.append(single)\\n\\nresults_dask = compute(*fetch_dask, scheduler=\\'processes\\')\\n'"
      ]
     },
     "execution_count": 15,
     "metadata": {},
     "output_type": "execute_result"
    }
   ],
   "source": [
    "%%time\n",
    "#test 03\n",
    "\"\"\"\n",
    "fetch_dask = []\n",
    "    \n",
    "for gid, i in enumerate(test_process['bbox_tuple'][:20]):\n",
    "    single = delayed(f_test)(i[0], i[1], gid, \"test03\")\n",
    "    fetch_dask.append(single)\n",
    "\n",
    "results_dask = compute(*fetch_dask, scheduler='processes')\n",
    "\"\"\"\n",
    "# CPU times: user 74.2 ms, sys: 14.8 ms, total: 89 ms\n",
    "# Wall time: 4min 8s"
   ]
  },
  {
   "cell_type": "code",
   "execution_count": 16,
   "id": "14b6159a-cf08-463a-a77b-490b45b5acdb",
   "metadata": {
    "tags": []
   },
   "outputs": [],
   "source": [
    "#outdir = \"/eos/jeodpp/home/users/osekenj/data/temp_data/test04b\"\n",
    "#test = sits.Multiproc2('image', 'nc', outdir)"
   ]
  },
  {
   "cell_type": "code",
   "execution_count": 17,
   "id": "8c1b882c-4775-4a13-ad5b-393d8716acfa",
   "metadata": {
    "tags": []
   },
   "outputs": [],
   "source": [
    "#for gid, i in enumerate(test_process['bbox_tuple'][:5]):\n",
    "#    print(i[0], i[1], gid)\n",
    "#    test.fetch_func(i[0], i[1], gid, resolution=20)"
   ]
  },
  {
   "cell_type": "code",
   "execution_count": 18,
   "id": "4b240783-7c7a-45f9-8124-6812f23dd360",
   "metadata": {
    "tags": []
   },
   "outputs": [],
   "source": [
    "#test.fetch_dask"
   ]
  },
  {
   "cell_type": "code",
   "execution_count": 19,
   "id": "e7b4f3f0-ecb4-4b8d-b2c7-c6d9229b7f73",
   "metadata": {
    "tags": []
   },
   "outputs": [],
   "source": [
    "#%%time\n",
    "#test.dask_compute()"
   ]
  },
  {
   "cell_type": "code",
   "execution_count": 20,
   "id": "d37364b5-22df-47eb-a8b3-f653d39c54ae",
   "metadata": {
    "tags": []
   },
   "outputs": [
    {
     "name": "stdout",
     "output_type": "stream",
     "text": [
      "[2.8255044256228508, 45.634941277411386, 2.8260189959120745, 45.6353022635073] [3761787.7849638816, 2529437.8009796273, 3761831.262662839, 2529481.4105150606] 0\n",
      "[6.139293359502604, 45.587155051477055, 6.139693095432569, 45.587435718717316] [4019438.9740521642, 2504995.883254013, 4019471.590462089, 2505028.4940533843] 1\n",
      "[5.534088480344151, 48.46721314992736, 5.534491045898747, 48.46777132050433] [3990846.743521249, 2827079.0831763, 3990880.024332588, 2827142.598343773] 2\n",
      "[5.534190109814471, 48.46654256305175, 5.534504293061137, 48.467286789130924] [3990849.826223296, 2827004.636245847, 3990877.832390555, 2827088.324802132] 3\n",
      "[5.540081457732796, 48.46730642585579, 5.541369223500214, 48.46819730023053] [3991289.9031796386, 2827058.74595494, 3991390.4657415943, 2827163.005502219] 4\n"
     ]
    },
    {
     "name": "stderr",
     "output_type": "stream",
     "text": [
      "/home/osekenj/.local/lib/python3.11/site-packages/rasterio/warp.py:344: NotGeoreferencedWarning: Dataset has no geotransform, gcps, or rpcs. The identity matrix will be returned.\n",
      "  _reproject(\n",
      "/home/osekenj/.local/lib/python3.11/site-packages/rasterio/warp.py:344: NotGeoreferencedWarning: Dataset has no geotransform, gcps, or rpcs. The identity matrix will be returned.\n",
      "  _reproject(\n"
     ]
    },
    {
     "name": "stdout",
     "output_type": "stream",
     "text": [
      "10 10\n",
      "3 6\n",
      "4 4\n",
      "3 3\n",
      "3 8\n"
     ]
    },
    {
     "ename": "PermissionError",
     "evalue": "[Errno 13] Permission denied: '/eos/jeodpp/home/users/osekenj/data/temp_data/test05/S2_fid-1_patch_2023-01-01 00:00:00-2023-12-31 00:00:00.nc'\n\nTraceback\n---------\n  File \"/home/osekenj/.local/lib/python3.11/site-packages/dask/local.py\", line 225, in execute_task\n    result = _execute_task(task, data)\n             ^^^^^^^^^^^^^^^^^^^^^^^^^\n  File \"/home/osekenj/.local/lib/python3.11/site-packages/dask/core.py\", line 127, in _execute_task\n    return func(*(_execute_task(a, cache) for a in args))\n           ^^^^^^^^^^^^^^^^^^^^^^^^^^^^^^^^^^^^^^^^^^^^^^\n  File \"/home/osekenj/.local/lib/python3.11/site-packages/dask/utils.py\", line 78, in apply\n    return func(*args, **kwargs)\n           ^^^^^^^^^^^^^^^^^^^^^\n  File \"/eos/jeodpp/home/users/osekenj/data/github_proj/SITS_dev/SITS_utils/sits/SITS.py\", line 604, in fdask\n    imgcoll.to_nc(self.outdir, gid, self.arrtype)\n  File \"/eos/jeodpp/home/users/osekenj/data/github_proj/SITS_dev/SITS_utils/sits/SITS.py\", line 471, in to_nc\n    e_array.to_netcdf(f\"{outdir}/S2_fid-{gid}_{array_type}_{self.startdate}-{self.enddate}.nc\")\n  File \"/home/osekenj/.local/lib/python3.11/site-packages/xarray/core/dataset.py\", line 2326, in to_netcdf\n    return to_netcdf(  # type: ignore  # mypy cannot resolve the overloads:(\n           ^^^^^^^^^^^^^^^^^^^^^^^^^^^^^^^^^^^^^^^^^^^^^^^^^^^^^^^^^^^^^^^^^\n  File \"/home/osekenj/.local/lib/python3.11/site-packages/xarray/backends/api.py\", line 1320, in to_netcdf\n    store = store_open(target, mode, format, group, **kwargs)\n            ^^^^^^^^^^^^^^^^^^^^^^^^^^^^^^^^^^^^^^^^^^^^^^^^^\n  File \"/home/osekenj/.local/lib/python3.11/site-packages/xarray/backends/netCDF4_.py\", line 409, in open\n    return cls(manager, group=group, mode=mode, lock=lock, autoclose=autoclose)\n           ^^^^^^^^^^^^^^^^^^^^^^^^^^^^^^^^^^^^^^^^^^^^^^^^^^^^^^^^^^^^^^^^^^^^\n  File \"/home/osekenj/.local/lib/python3.11/site-packages/xarray/backends/netCDF4_.py\", line 356, in __init__\n    self.format = self.ds.data_model\n                  ^^^^^^^\n  File \"/home/osekenj/.local/lib/python3.11/site-packages/xarray/backends/netCDF4_.py\", line 418, in ds\n    return self._acquire()\n           ^^^^^^^^^^^^^^^\n  File \"/home/osekenj/.local/lib/python3.11/site-packages/xarray/backends/netCDF4_.py\", line 412, in _acquire\n    with self._manager.acquire_context(needs_lock) as root:\n  File \"/opt/conda/lib/python3.11/contextlib.py\", line 137, in __enter__\n    return next(self.gen)\n           ^^^^^^^^^^^^^^\n  File \"/home/osekenj/.local/lib/python3.11/site-packages/xarray/backends/file_manager.py\", line 199, in acquire_context\n    file, cached = self._acquire_with_cache_info(needs_lock)\n                   ^^^^^^^^^^^^^^^^^^^^^^^^^^^^^^^^^^^^^^^^^\n  File \"/home/osekenj/.local/lib/python3.11/site-packages/xarray/backends/file_manager.py\", line 217, in _acquire_with_cache_info\n    file = self._opener(*self._args, **kwargs)\n           ^^^^^^^^^^^^^^^^^^^^^^^^^^^^^^^^^^^\n  File \"src/netCDF4/_netCDF4.pyx\", line 2469, in netCDF4._netCDF4.Dataset.__init__\n  File \"src/netCDF4/_netCDF4.pyx\", line 2028, in netCDF4._netCDF4._ensure_nc_success\n",
     "output_type": "error",
     "traceback": [
      "\u001b[0;31m---------------------------------------------------------------------------\u001b[0m",
      "\u001b[0;31mPermissionError\u001b[0m                           Traceback (most recent call last)",
      "File \u001b[0;32m<timed exec>:6\u001b[0m\n",
      "File \u001b[0;32m/eos/jeodpp/home/users/osekenj/data/github_proj/SITS_dev/SITS_utils/sits/SITS.py:617\u001b[0m, in \u001b[0;36mMultiproc2.dask_compute\u001b[0;34m(self, scheduler_type)\u001b[0m\n\u001b[1;32m    616\u001b[0m \u001b[38;5;28;01mdef\u001b[39;00m \u001b[38;5;21mdask_compute\u001b[39m(\u001b[38;5;28mself\u001b[39m, scheduler_type\u001b[38;5;241m=\u001b[39m\u001b[38;5;124m'\u001b[39m\u001b[38;5;124mprocesses\u001b[39m\u001b[38;5;124m'\u001b[39m):\n\u001b[0;32m--> 617\u001b[0m     results_dask \u001b[38;5;241m=\u001b[39m \u001b[43mdask\u001b[49m\u001b[38;5;241;43m.\u001b[39;49m\u001b[43mcompute\u001b[49m\u001b[43m(\u001b[49m\u001b[38;5;241;43m*\u001b[39;49m\u001b[38;5;28;43mself\u001b[39;49m\u001b[38;5;241;43m.\u001b[39;49m\u001b[43mfetch_dask\u001b[49m\u001b[43m,\u001b[49m\u001b[43m \u001b[49m\u001b[43mscheduler\u001b[49m\u001b[38;5;241;43m=\u001b[39;49m\u001b[43mscheduler_type\u001b[49m\u001b[43m)\u001b[49m\n\u001b[1;32m    618\u001b[0m     \u001b[38;5;28;01mreturn\u001b[39;00m results_dask\n",
      "File \u001b[0;32m~/.local/lib/python3.11/site-packages/dask/base.py:661\u001b[0m, in \u001b[0;36mcompute\u001b[0;34m(traverse, optimize_graph, scheduler, get, *args, **kwargs)\u001b[0m\n\u001b[1;32m    658\u001b[0m     postcomputes\u001b[38;5;241m.\u001b[39mappend(x\u001b[38;5;241m.\u001b[39m__dask_postcompute__())\n\u001b[1;32m    660\u001b[0m \u001b[38;5;28;01mwith\u001b[39;00m shorten_traceback():\n\u001b[0;32m--> 661\u001b[0m     results \u001b[38;5;241m=\u001b[39m \u001b[43mschedule\u001b[49m\u001b[43m(\u001b[49m\u001b[43mdsk\u001b[49m\u001b[43m,\u001b[49m\u001b[43m \u001b[49m\u001b[43mkeys\u001b[49m\u001b[43m,\u001b[49m\u001b[43m \u001b[49m\u001b[38;5;241;43m*\u001b[39;49m\u001b[38;5;241;43m*\u001b[39;49m\u001b[43mkwargs\u001b[49m\u001b[43m)\u001b[49m\n\u001b[1;32m    663\u001b[0m \u001b[38;5;28;01mreturn\u001b[39;00m repack([f(r, \u001b[38;5;241m*\u001b[39ma) \u001b[38;5;28;01mfor\u001b[39;00m r, (f, a) \u001b[38;5;129;01min\u001b[39;00m \u001b[38;5;28mzip\u001b[39m(results, postcomputes)])\n",
      "File \u001b[0;32m~/.local/lib/python3.11/site-packages/dask/multiprocessing.py:112\u001b[0m, in \u001b[0;36mreraise\u001b[0;34m(exc, tb)\u001b[0m\n\u001b[1;32m    110\u001b[0m \u001b[38;5;28;01mdef\u001b[39;00m \u001b[38;5;21mreraise\u001b[39m(exc, tb\u001b[38;5;241m=\u001b[39m\u001b[38;5;28;01mNone\u001b[39;00m):\n\u001b[1;32m    111\u001b[0m     exc \u001b[38;5;241m=\u001b[39m remote_exception(exc, tb)\n\u001b[0;32m--> 112\u001b[0m     \u001b[38;5;28;01mraise\u001b[39;00m exc\n",
      "\u001b[0;31mPermissionError\u001b[0m: [Errno 13] Permission denied: '/eos/jeodpp/home/users/osekenj/data/temp_data/test05/S2_fid-1_patch_2023-01-01 00:00:00-2023-12-31 00:00:00.nc'\n\nTraceback\n---------\n  File \"/home/osekenj/.local/lib/python3.11/site-packages/dask/local.py\", line 225, in execute_task\n    result = _execute_task(task, data)\n             ^^^^^^^^^^^^^^^^^^^^^^^^^\n  File \"/home/osekenj/.local/lib/python3.11/site-packages/dask/core.py\", line 127, in _execute_task\n    return func(*(_execute_task(a, cache) for a in args))\n           ^^^^^^^^^^^^^^^^^^^^^^^^^^^^^^^^^^^^^^^^^^^^^^\n  File \"/home/osekenj/.local/lib/python3.11/site-packages/dask/utils.py\", line 78, in apply\n    return func(*args, **kwargs)\n           ^^^^^^^^^^^^^^^^^^^^^\n  File \"/eos/jeodpp/home/users/osekenj/data/github_proj/SITS_dev/SITS_utils/sits/SITS.py\", line 604, in fdask\n    imgcoll.to_nc(self.outdir, gid, self.arrtype)\n  File \"/eos/jeodpp/home/users/osekenj/data/github_proj/SITS_dev/SITS_utils/sits/SITS.py\", line 471, in to_nc\n    e_array.to_netcdf(f\"{outdir}/S2_fid-{gid}_{array_type}_{self.startdate}-{self.enddate}.nc\")\n  File \"/home/osekenj/.local/lib/python3.11/site-packages/xarray/core/dataset.py\", line 2326, in to_netcdf\n    return to_netcdf(  # type: ignore  # mypy cannot resolve the overloads:(\n           ^^^^^^^^^^^^^^^^^^^^^^^^^^^^^^^^^^^^^^^^^^^^^^^^^^^^^^^^^^^^^^^^^\n  File \"/home/osekenj/.local/lib/python3.11/site-packages/xarray/backends/api.py\", line 1320, in to_netcdf\n    store = store_open(target, mode, format, group, **kwargs)\n            ^^^^^^^^^^^^^^^^^^^^^^^^^^^^^^^^^^^^^^^^^^^^^^^^^\n  File \"/home/osekenj/.local/lib/python3.11/site-packages/xarray/backends/netCDF4_.py\", line 409, in open\n    return cls(manager, group=group, mode=mode, lock=lock, autoclose=autoclose)\n           ^^^^^^^^^^^^^^^^^^^^^^^^^^^^^^^^^^^^^^^^^^^^^^^^^^^^^^^^^^^^^^^^^^^^\n  File \"/home/osekenj/.local/lib/python3.11/site-packages/xarray/backends/netCDF4_.py\", line 356, in __init__\n    self.format = self.ds.data_model\n                  ^^^^^^^\n  File \"/home/osekenj/.local/lib/python3.11/site-packages/xarray/backends/netCDF4_.py\", line 418, in ds\n    return self._acquire()\n           ^^^^^^^^^^^^^^^\n  File \"/home/osekenj/.local/lib/python3.11/site-packages/xarray/backends/netCDF4_.py\", line 412, in _acquire\n    with self._manager.acquire_context(needs_lock) as root:\n  File \"/opt/conda/lib/python3.11/contextlib.py\", line 137, in __enter__\n    return next(self.gen)\n           ^^^^^^^^^^^^^^\n  File \"/home/osekenj/.local/lib/python3.11/site-packages/xarray/backends/file_manager.py\", line 199, in acquire_context\n    file, cached = self._acquire_with_cache_info(needs_lock)\n                   ^^^^^^^^^^^^^^^^^^^^^^^^^^^^^^^^^^^^^^^^^\n  File \"/home/osekenj/.local/lib/python3.11/site-packages/xarray/backends/file_manager.py\", line 217, in _acquire_with_cache_info\n    file = self._opener(*self._args, **kwargs)\n           ^^^^^^^^^^^^^^^^^^^^^^^^^^^^^^^^^^^\n  File \"src/netCDF4/_netCDF4.pyx\", line 2469, in netCDF4._netCDF4.Dataset.__init__\n  File \"src/netCDF4/_netCDF4.pyx\", line 2028, in netCDF4._netCDF4._ensure_nc_success\n"
     ]
    }
   ],
   "source": [
    "%%time\n",
    "outdir = \"/eos/jeodpp/home/users/osekenj/data/temp_data/test05\"\n",
    "test = sits.Multiproc2('patch', 'nc', outdir)\n",
    "for gid, i in enumerate(test_process['bbox_tuple'][:5]):\n",
    "    print(i[0], i[1], gid)\n",
    "    test.fetch_func(i[0], i[1], gid, dimx=10, dimy=10)\n",
    "test.dask_compute()"
   ]
  }
 ],
 "metadata": {
  "kernelspec": {
   "display_name": "Python 3 (ipykernel)",
   "language": "python",
   "name": "python3"
  },
  "language_info": {
   "codemirror_mode": {
    "name": "ipython",
    "version": 3
   },
   "file_extension": ".py",
   "mimetype": "text/x-python",
   "name": "python",
   "nbconvert_exporter": "python",
   "pygments_lexer": "ipython3",
   "version": "3.11.9"
  }
 },
 "nbformat": 4,
 "nbformat_minor": 5
}
