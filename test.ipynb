{
 "cells": [
  {
   "cell_type": "code",
   "execution_count": 1,
   "id": "dbcc940b-63f8-47a1-ac1f-377b9a3038e0",
   "metadata": {
    "tags": []
   },
   "outputs": [],
   "source": [
    "import sits.SITS as sits\n",
    "import folium\n",
    "from datetime import datetime\n",
    "import time"
   ]
  },
  {
   "cell_type": "code",
   "execution_count": 2,
   "id": "695e6f01-0beb-46bd-9d3d-32e35e269cff",
   "metadata": {
    "tags": []
   },
   "outputs": [
    {
     "data": {
      "text/plain": [
       "2154"
      ]
     },
     "execution_count": 2,
     "metadata": {},
     "output_type": "execute_result"
    }
   ],
   "source": [
    "import geopandas as gpd\n",
    "import pandas as pd\n",
    "\n",
    "in_vect = \"france_barkbeetle_lite_single.geojson\"\n",
    "test_2154 = sits.Vec2gdf(in_vect)\n",
    "test_2154.gdf.crs.to_epsg()"
   ]
  },
  {
   "cell_type": "code",
   "execution_count": 3,
   "id": "c3ea8865-d537-45f4-b3c4-86975980cf1e",
   "metadata": {
    "tags": []
   },
   "outputs": [
    {
     "data": {
      "text/plain": [
       "2154"
      ]
     },
     "execution_count": 3,
     "metadata": {},
     "output_type": "execute_result"
    }
   ],
   "source": [
    "# calculates the boundiug box for each feature.\n",
    "test_2154.set_bbox('gdf')\n",
    "test_2154.bbox.crs.to_epsg()"
   ]
  },
  {
   "cell_type": "code",
   "execution_count": 4,
   "id": "f26a4bad-6af6-497c-8d2f-05b4f4a073c8",
   "metadata": {
    "tags": []
   },
   "outputs": [],
   "source": [
    "#f = folium.Figure(height=400)\n",
    "#m = folium.Map(location=[55, 0], zoom_start=3).add_to(f)\n",
    "#test_2154.gdf.explore(m=m, height=400, color='green')\n",
    "#test_2154.bbox.explore(m=m, height=400)"
   ]
  },
  {
   "cell_type": "code",
   "execution_count": 5,
   "id": "7e41e233-5ad2-4871-9048-73a197ab2c22",
   "metadata": {},
   "outputs": [
    {
     "data": {
      "text/plain": [
       "geopandas.geodataframe.GeoDataFrame"
      ]
     },
     "execution_count": 5,
     "metadata": {},
     "output_type": "execute_result"
    }
   ],
   "source": [
    "type(test_2154.bbox)"
   ]
  },
  {
   "cell_type": "code",
   "execution_count": 6,
   "id": "db165566-5769-4095-ae41-749ee106a899",
   "metadata": {
    "tags": []
   },
   "outputs": [],
   "source": [
    "test_process = test_2154.bbox.to_crs(4326)\n",
    "\n",
    "test_process = pd.concat([test_process, test_process['geometry'].bounds], axis=1)\n",
    "test_process['bbox_4326'] = test_process[['minx', 'miny', 'maxx', 'maxy']].values.tolist()\n"
   ]
  },
  {
   "cell_type": "code",
   "execution_count": 7,
   "id": "3931ff0e-a585-4231-b10d-d15735aa290f",
   "metadata": {
    "tags": []
   },
   "outputs": [
    {
     "data": {
      "text/plain": [
       "([2.8255044256228508,\n",
       "  45.634941277411386,\n",
       "  2.8260189959120745,\n",
       "  45.6353022635073],\n",
       " [3761787.7849638816,\n",
       "  2529437.8009796273,\n",
       "  3761831.262662839,\n",
       "  2529481.4105150606])"
      ]
     },
     "execution_count": 7,
     "metadata": {},
     "output_type": "execute_result"
    }
   ],
   "source": [
    "test_3035 = test_2154.bbox.to_crs(3035)\n",
    "test_3035_bounds = pd.concat([test_3035, test_3035['geometry'].bounds], axis=1)\n",
    "test_3035_bounds['bbox_3035'] = test_3035_bounds[['minx', 'miny', 'maxx', 'maxy']].values.tolist()\n",
    "\n",
    "test_process = pd.concat([test_process, test_3035_bounds['bbox_3035']], axis=1)\n",
    "test_process['bbox_tuple'] = test_process.apply(lambda row: (row['bbox_4326'], row['bbox_3035']), axis=1)\n",
    "test_process['bbox_tuple'][0]\n"
   ]
  },
  {
   "cell_type": "code",
   "execution_count": 8,
   "id": "cbc62383-9f7b-4f3d-8fac-db64b2c15947",
   "metadata": {
    "tags": []
   },
   "outputs": [],
   "source": [
    "#%%time\n",
    "\n",
    "#imgcoll = sits.StacAttack()\n",
    "#imgcoll.searchItems(total_bbox_4326, date_start=datetime(2023, 1, 1), date_end=datetime(2023, 12, 31))"
   ]
  },
  {
   "cell_type": "code",
   "execution_count": 9,
   "id": "71d52e20-5471-4338-9585-e1e956ea755e",
   "metadata": {
    "tags": []
   },
   "outputs": [],
   "source": [
    "#len(imgcoll.items)"
   ]
  },
  {
   "cell_type": "code",
   "execution_count": 10,
   "id": "f60a3757-2dae-4b9c-a821-48ba4055863f",
   "metadata": {
    "tags": []
   },
   "outputs": [],
   "source": [
    "from dask import delayed, compute"
   ]
  },
  {
   "cell_type": "code",
   "execution_count": 11,
   "id": "84774956-e884-47e7-8d27-ba67a170d94f",
   "metadata": {
    "tags": []
   },
   "outputs": [],
   "source": [
    "def f_test(aoi_bounds_latlong, aoi_bounds_proj, gid, rep):\n",
    "    # loads time-series images in EPSG:3035\n",
    "    imgcoll = sits.StacAttack()\n",
    "    imgcoll.searchItems(aoi_bounds_latlong, date_start=datetime(2023, 1, 1), date_end=datetime(2023, 12, 31))\n",
    "    imgcoll.loadImgs(aoi_bounds_proj, crs_out=3035)\n",
    "    # exports time-series into csv file and netCDF file\n",
    "    imgcoll.to_nc(f\"/eos/jeodpp/home/users/osekenj/data/temp_data/{rep}\", gid, 'image')\n",
    "\n",
    "    "
   ]
  },
  {
   "cell_type": "code",
   "execution_count": 12,
   "id": "23280e93-4125-4f68-b100-a99b7ddd7c9c",
   "metadata": {
    "tags": []
   },
   "outputs": [
    {
     "name": "stdout",
     "output_type": "stream",
     "text": [
      "[3761787.7849638816, 2529437.8009796273, 3761831.262662839, 2529481.4105150606]\n",
      "[4019438.9740521642, 2504995.883254013, 4019471.590462089, 2505028.4940533843]\n",
      "[3990846.743521249, 2827079.0831763, 3990880.024332588, 2827142.598343773]\n",
      "[3990849.826223296, 2827004.636245847, 3990877.832390555, 2827088.324802132]\n",
      "[3991289.9031796386, 2827058.74595494, 3991390.4657415943, 2827163.005502219]\n",
      "[3991028.9235258377, 2826628.4510618323, 3991063.193960321, 2826641.9578250065]\n",
      "[3967053.295668171, 2853454.003526762, 3967090.996238946, 2853500.4930631756]\n",
      "[3967023.8647004236, 2853506.1117294356, 3967057.189913272, 2853527.102907303]\n",
      "[4019577.432066314, 2934944.5341832656, 4019652.0517830993, 2934999.055088769]\n",
      "[4019839.553133474, 2934765.816373214, 4019921.141183831, 2934858.5466706147]\n",
      "[4019793.3397727082, 2934708.6873220964, 4019876.4962251536, 2934762.05659873]\n",
      "[4019592.6021670396, 2935080.3477080576, 4019642.182089403, 2935132.4464516807]\n",
      "[3983000.8162814267, 2918047.9374025525, 3983022.5589518044, 2918069.705859873]\n",
      "[3981962.454779734, 2900777.2711932636, 3982019.928758405, 2900849.1596987885]\n",
      "[3981852.4974175543, 2900717.526388063, 3981908.1821559374, 2900814.2138441512]\n",
      "[3981930.591097652, 2900911.261677688, 3982003.8774991296, 2900997.010163027]\n",
      "[3974497.9360678005, 2901610.2962004626, 3974575.4830428255, 2901708.7366149304]\n",
      "[3974601.433749177, 2901642.3049781322, 3974773.8483221987, 2901730.3191088424]\n",
      "[3972047.8514755457, 2912735.158966215, 3972177.926102366, 2912884.225717038]\n",
      "[3761807.598486877, 2529540.0155396247, 3761851.076217835, 2529583.625105615]\n"
     ]
    }
   ],
   "source": [
    "for i in test_process['bbox_tuple'][:20]:\n",
    "    print (i[1])"
   ]
  },
  {
   "cell_type": "code",
   "execution_count": 13,
   "id": "f31566a3-5912-4ec3-907b-5c34cd56f071",
   "metadata": {},
   "outputs": [
    {
     "name": "stderr",
     "output_type": "stream",
     "text": [
      "/home/osekenj/.local/lib/python3.11/site-packages/rasterio/warp.py:344: NotGeoreferencedWarning: Dataset has no geotransform, gcps, or rpcs. The identity matrix will be returned.\n",
      "  _reproject(\n",
      "/home/osekenj/.local/lib/python3.11/site-packages/rasterio/warp.py:344: NotGeoreferencedWarning: Dataset has no geotransform, gcps, or rpcs. The identity matrix will be returned.\n",
      "  _reproject(\n"
     ]
    },
    {
     "name": "stdout",
     "output_type": "stream",
     "text": [
      "CPU times: user 17min 30s, sys: 11min 6s, total: 28min 36s\n",
      "Wall time: 10min 43s\n"
     ]
    }
   ],
   "source": [
    "%%time\n",
    "#test 01\n",
    "\n",
    "for gid, i in enumerate(test_process['bbox_tuple'][:20]):\n",
    "    f_test(i[0], i[1], gid, \"test01\")\n"
   ]
  },
  {
   "cell_type": "code",
   "execution_count": 14,
   "id": "9f3b554c-6aab-4a8d-953d-928e1a2432f9",
   "metadata": {
    "tags": []
   },
   "outputs": [
    {
     "name": "stdout",
     "output_type": "stream",
     "text": [
      "CPU times: user 19 µs, sys: 12 µs, total: 31 µs\n",
      "Wall time: 56.5 µs\n"
     ]
    },
    {
     "data": {
      "text/plain": [
       "'\\nfetch_dask = []\\n    \\nfor gid, i in enumerate(test_process[\\'bbox_tuple\\'][:20]):\\n    single = delayed(f_test)(i[0], i[1], gid, \"test02\")\\n    fetch_dask.append(single)\\n\\nresults_dask = compute(*fetch_dask)#, scheduler=\\'processes\\')\\n'"
      ]
     },
     "execution_count": 14,
     "metadata": {},
     "output_type": "execute_result"
    }
   ],
   "source": [
    "%%time\n",
    "#test 02\n",
    "\"\"\"\n",
    "fetch_dask = []\n",
    "    \n",
    "for gid, i in enumerate(test_process['bbox_tuple'][:20]):\n",
    "    single = delayed(f_test)(i[0], i[1], gid, \"test02\")\n",
    "    fetch_dask.append(single)\n",
    "\n",
    "results_dask = compute(*fetch_dask)#, scheduler='processes')\n",
    "\"\"\""
   ]
  },
  {
   "cell_type": "code",
   "execution_count": 15,
   "id": "065a2f72-bd83-4ff9-93df-a502212574ff",
   "metadata": {
    "tags": []
   },
   "outputs": [
    {
     "name": "stderr",
     "output_type": "stream",
     "text": [
      "/home/osekenj/.local/lib/python3.11/site-packages/rasterio/warp.py:344: NotGeoreferencedWarning: Dataset has no geotransform, gcps, or rpcs. The identity matrix will be returned.\n",
      "  _reproject(\n",
      "/home/osekenj/.local/lib/python3.11/site-packages/rasterio/warp.py:344: NotGeoreferencedWarning: Dataset has no geotransform, gcps, or rpcs. The identity matrix will be returned.\n",
      "  _reproject(\n",
      "/home/osekenj/.local/lib/python3.11/site-packages/rasterio/warp.py:344: NotGeoreferencedWarning: Dataset has no geotransform, gcps, or rpcs. The identity matrix will be returned.\n",
      "  _reproject(\n",
      "/home/osekenj/.local/lib/python3.11/site-packages/rasterio/warp.py:344: NotGeoreferencedWarning: Dataset has no geotransform, gcps, or rpcs. The identity matrix will be returned.\n",
      "  _reproject(\n",
      "/home/osekenj/.local/lib/python3.11/site-packages/rasterio/warp.py:344: NotGeoreferencedWarning: Dataset has no geotransform, gcps, or rpcs. The identity matrix will be returned.\n",
      "  _reproject(\n",
      "/home/osekenj/.local/lib/python3.11/site-packages/rasterio/warp.py:344: NotGeoreferencedWarning: Dataset has no geotransform, gcps, or rpcs. The identity matrix will be returned.\n",
      "  _reproject(\n"
     ]
    },
    {
     "name": "stdout",
     "output_type": "stream",
     "text": [
      "CPU times: user 66.6 ms, sys: 22.6 ms, total: 89.2 ms\n",
      "Wall time: 4min 10s\n"
     ]
    }
   ],
   "source": [
    "%%time\n",
    "#test 03\n",
    "\n",
    "fetch_dask = []\n",
    "    \n",
    "for gid, i in enumerate(test_process['bbox_tuple'][:20]):\n",
    "    single = delayed(f_test)(i[0], i[1], gid, \"test03\")\n",
    "    fetch_dask.append(single)\n",
    "\n",
    "results_dask = compute(*fetch_dask, scheduler='processes')"
   ]
  }
 ],
 "metadata": {
  "kernelspec": {
   "display_name": "Python 3 (ipykernel)",
   "language": "python",
   "name": "python3"
  },
  "language_info": {
   "codemirror_mode": {
    "name": "ipython",
    "version": 3
   },
   "file_extension": ".py",
   "mimetype": "text/x-python",
   "name": "python",
   "nbconvert_exporter": "python",
   "pygments_lexer": "ipython3",
   "version": "3.11.9"
  }
 },
 "nbformat": 4,
 "nbformat_minor": 5
}
