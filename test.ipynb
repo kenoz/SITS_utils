{
 "cells": [
  {
   "cell_type": "code",
   "execution_count": null,
   "id": "dbcc940b-63f8-47a1-ac1f-377b9a3038e0",
   "metadata": {
    "tags": []
   },
   "outputs": [],
   "source": [
    "import sits.SITS as sits\n",
    "import folium\n",
    "from datetime import datetime\n",
    "import time"
   ]
  },
  {
   "cell_type": "code",
   "execution_count": null,
   "id": "695e6f01-0beb-46bd-9d3d-32e35e269cff",
   "metadata": {
    "tags": []
   },
   "outputs": [],
   "source": [
    "import geopandas as gpd\n",
    "import pandas as pd\n",
    "\n",
    "in_vect = \"france_barkbeetle_lite_single.geojson\"\n",
    "test_2154 = sits.Vec2gdf(in_vect)\n",
    "test_2154.gdf.crs.to_epsg()"
   ]
  },
  {
   "cell_type": "code",
   "execution_count": null,
   "id": "c3ea8865-d537-45f4-b3c4-86975980cf1e",
   "metadata": {
    "tags": []
   },
   "outputs": [],
   "source": [
    "# calculates the boundiug box for each feature.\n",
    "test_2154.set_bbox('gdf')\n",
    "test_2154.bbox.crs.to_epsg()"
   ]
  },
  {
   "cell_type": "code",
   "execution_count": null,
   "id": "f26a4bad-6af6-497c-8d2f-05b4f4a073c8",
   "metadata": {
    "tags": []
   },
   "outputs": [],
   "source": [
    "#f = folium.Figure(height=400)\n",
    "#m = folium.Map(location=[55, 0], zoom_start=3).add_to(f)\n",
    "#test_2154.gdf.explore(m=m, height=400, color='green')\n",
    "#test_2154.bbox.explore(m=m, height=400)"
   ]
  },
  {
   "cell_type": "code",
   "execution_count": null,
   "id": "7e41e233-5ad2-4871-9048-73a197ab2c22",
   "metadata": {},
   "outputs": [],
   "source": [
    "type(test_2154.bbox)"
   ]
  },
  {
   "cell_type": "code",
   "execution_count": null,
   "id": "db165566-5769-4095-ae41-749ee106a899",
   "metadata": {
    "tags": []
   },
   "outputs": [],
   "source": [
    "test_process = test_2154.bbox.to_crs(4326)\n",
    "\n",
    "test_process = pd.concat([test_process, test_process['geometry'].bounds], axis=1)\n",
    "test_process['bbox_4326'] = test_process[['minx', 'miny', 'maxx', 'maxy']].values.tolist()"
   ]
  },
  {
   "cell_type": "code",
   "execution_count": null,
   "id": "3931ff0e-a585-4231-b10d-d15735aa290f",
   "metadata": {
    "tags": []
   },
   "outputs": [],
   "source": [
    "test_3035 = test_2154.bbox.to_crs(3035)\n",
    "test_3035_bounds = pd.concat([test_3035, test_3035['geometry'].bounds], axis=1)\n",
    "test_3035_bounds['bbox_3035'] = test_3035_bounds[['minx', 'miny', 'maxx', 'maxy']].values.tolist()\n",
    "\n",
    "test_process = pd.concat([test_process, test_3035_bounds['bbox_3035']], axis=1)\n",
    "test_process['bbox_tuple'] = test_process.apply(lambda row: (row['bbox_4326'], row['bbox_3035']), axis=1)"
   ]
  },
  {
   "cell_type": "code",
   "execution_count": null,
   "id": "cbc62383-9f7b-4f3d-8fac-db64b2c15947",
   "metadata": {
    "tags": []
   },
   "outputs": [],
   "source": [
    "#%%time\n",
    "\n",
    "#imgcoll = sits.StacAttack()\n",
    "#imgcoll.searchItems(total_bbox_4326, date_start=datetime(2023, 1, 1), date_end=datetime(2023, 12, 31))"
   ]
  },
  {
   "cell_type": "code",
   "execution_count": null,
   "id": "71d52e20-5471-4338-9585-e1e956ea755e",
   "metadata": {
    "tags": []
   },
   "outputs": [],
   "source": [
    "#len(imgcoll.items)"
   ]
  },
  {
   "cell_type": "code",
   "execution_count": null,
   "id": "f60a3757-2dae-4b9c-a821-48ba4055863f",
   "metadata": {
    "tags": []
   },
   "outputs": [],
   "source": [
    "from dask import delayed, compute"
   ]
  },
  {
   "cell_type": "code",
   "execution_count": null,
   "id": "84774956-e884-47e7-8d27-ba67a170d94f",
   "metadata": {
    "tags": []
   },
   "outputs": [],
   "source": [
    "def f_test(aoi_bounds_latlong, aoi_bounds_proj, gid, rep):\n",
    "    # loads time-series images in EPSG:3035\n",
    "    imgcoll = sits.StacAttack()\n",
    "    imgcoll.searchItems(aoi_bounds_latlong, date_start=datetime(2023, 1, 1), date_end=datetime(2023, 12, 31))\n",
    "    #imgcoll.loadImgs(aoi_bounds_proj, crs_out=3035)\n",
    "    imgcoll.loadPatches(aoi_bounds_proj, dimx=10, dimy=10, crs_out=3035)\n",
    "    # exports time-series into csv file and netCDF file\n",
    "    imgcoll.to_nc(f\"/eos/jeodpp/home/users/osekenj/data/temp_data/{rep}\", gid, 'patch')"
   ]
  },
  {
   "cell_type": "code",
   "execution_count": null,
   "id": "23280e93-4125-4f68-b100-a99b7ddd7c9c",
   "metadata": {
    "tags": []
   },
   "outputs": [],
   "source": [
    "#for i in test_process['bbox_tuple'][:20]:\n",
    "#    print (i[0],i[1])"
   ]
  },
  {
   "cell_type": "code",
   "execution_count": null,
   "id": "f31566a3-5912-4ec3-907b-5c34cd56f071",
   "metadata": {},
   "outputs": [],
   "source": [
    "%%time\n",
    "#test 01\n",
    "for gid, i in enumerate(test_process['bbox_tuple'][:20]):\n",
    "    f_test(i[0], i[1], gid, \"test01\")"
   ]
  },
  {
   "cell_type": "code",
   "execution_count": null,
   "id": "9f3b554c-6aab-4a8d-953d-928e1a2432f9",
   "metadata": {
    "tags": []
   },
   "outputs": [],
   "source": [
    "#%%time\n",
    "#test 02\n",
    "\"\"\"\n",
    "fetch_dask = []\n",
    "    \n",
    "for gid, i in enumerate(test_process['bbox_tuple'][:20]):\n",
    "    single = delayed(f_test)(i[0], i[1], gid, \"test02\")\n",
    "    fetch_dask.append(single)\n",
    "\n",
    "results_dask = compute(*fetch_dask)#, scheduler='processes')\n",
    "\"\"\""
   ]
  },
  {
   "cell_type": "code",
   "execution_count": null,
   "id": "065a2f72-bd83-4ff9-93df-a502212574ff",
   "metadata": {
    "tags": []
   },
   "outputs": [],
   "source": [
    "#%%time\n",
    "#test 03\n",
    "\"\"\"\n",
    "fetch_dask = []\n",
    "    \n",
    "for gid, i in enumerate(test_process['bbox_tuple'][:20]):\n",
    "    single = delayed(f_test)(i[0], i[1], gid, \"test03\")\n",
    "    fetch_dask.append(single)\n",
    "\n",
    "results_dask = compute(*fetch_dask, scheduler='processes')\n",
    "\"\"\"\n",
    "# CPU times: user 74.2 ms, sys: 14.8 ms, total: 89 ms\n",
    "# Wall time: 4min 8s"
   ]
  },
  {
   "cell_type": "code",
   "execution_count": null,
   "id": "14b6159a-cf08-463a-a77b-490b45b5acdb",
   "metadata": {
    "tags": []
   },
   "outputs": [],
   "source": [
    "#outdir = \"/eos/jeodpp/home/users/osekenj/data/temp_data/test04b\"\n",
    "#test = sits.Multiproc2('image', 'nc', outdir)"
   ]
  },
  {
   "cell_type": "code",
   "execution_count": null,
   "id": "8c1b882c-4775-4a13-ad5b-393d8716acfa",
   "metadata": {
    "tags": []
   },
   "outputs": [],
   "source": [
    "#for gid, i in enumerate(test_process['bbox_tuple'][:5]):\n",
    "#    print(i[0], i[1], gid)\n",
    "#    test.fetch_func(i[0], i[1], gid, resolution=20)"
   ]
  },
  {
   "cell_type": "code",
   "execution_count": null,
   "id": "4b240783-7c7a-45f9-8124-6812f23dd360",
   "metadata": {
    "tags": []
   },
   "outputs": [],
   "source": [
    "#test.fetch_dask"
   ]
  },
  {
   "cell_type": "code",
   "execution_count": null,
   "id": "e7b4f3f0-ecb4-4b8d-b2c7-c6d9229b7f73",
   "metadata": {
    "tags": []
   },
   "outputs": [],
   "source": [
    "#%%time\n",
    "#test.dask_compute()"
   ]
  },
  {
   "cell_type": "code",
   "execution_count": null,
   "id": "d37364b5-22df-47eb-a8b3-f653d39c54ae",
   "metadata": {
    "tags": []
   },
   "outputs": [],
   "source": [
    "%%time\n",
    "outdir = \"/eos/jeodpp/home/users/osekenj/data/temp_data/test06_processes\"\n",
    "test = sits.Multiproc('patch', 'nc', outdir)\n",
    "for gid, i in enumerate(test_process['bbox_tuple'][:20]):\n",
    "    #print(i[0], i[1], gid)\n",
    "    test.fetch_func(i[0], i[1], gid, dimx=10, dimy=10)\n",
    "test.dask_compute()"
   ]
  },
  {
   "cell_type": "code",
   "execution_count": null,
   "id": "eeda490d-381f-4829-b3ac-4dd08f7cde7d",
   "metadata": {
    "tags": []
   },
   "outputs": [],
   "source": [
    "%%time\n",
    "outdir = \"/eos/jeodpp/home/users/osekenj/data/temp_data/test06_threads\"\n",
    "test = sits.Multiproc('patch', 'nc', outdir)\n",
    "for gid, i in enumerate(test_process['bbox_tuple'][:20]):\n",
    "    #print(i[0], i[1], gid)\n",
    "    test.fetch_func(i[0], i[1], gid, dimx=10, dimy=10)\n",
    "test.dask_compute(scheduler_type='threads')"
   ]
  },
  {
   "cell_type": "code",
   "execution_count": null,
   "id": "5d5acd94-378e-4781-b1e4-c16ceaed5cba",
   "metadata": {
    "tags": []
   },
   "outputs": [],
   "source": [
    "%%time\n",
    "outdir = \"/eos/jeodpp/home/users/osekenj/data/temp_data/test06_distributed\"\n",
    "test = sits.Multiproc('patch', 'nc', outdir)\n",
    "for gid, i in enumerate(test_process['bbox_tuple'][:20]):\n",
    "    #print(i[0], i[1], gid)\n",
    "    test.fetch_func(i[0], i[1], gid, dimx=10, dimy=10)\n",
    "test.dask_compute(scheduler_type='distributed')"
   ]
  }
 ],
 "metadata": {
  "kernelspec": {
   "display_name": "Python 3 (ipykernel)",
   "language": "python",
   "name": "python3"
  },
  "language_info": {
   "codemirror_mode": {
    "name": "ipython",
    "version": 3
   },
   "file_extension": ".py",
   "mimetype": "text/x-python",
   "name": "python",
   "nbconvert_exporter": "python",
   "pygments_lexer": "ipython3",
   "version": "3.11.9"
  }
 },
 "nbformat": 4,
 "nbformat_minor": 5
}
