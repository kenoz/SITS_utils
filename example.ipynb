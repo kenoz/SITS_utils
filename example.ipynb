{
 "cells": [
  {
   "cell_type": "code",
   "execution_count": null,
   "id": "95cd620d-35f3-4633-823a-37566775bd7c",
   "metadata": {
    "tags": []
   },
   "outputs": [],
   "source": [
    "#!pip install matplotlib\n",
    "#!pip install mapclassify"
   ]
  },
  {
   "cell_type": "code",
   "execution_count": null,
   "id": "19838d84-0719-4003-ab6e-bce1f6c05d4e",
   "metadata": {
    "tags": []
   },
   "outputs": [],
   "source": [
    "import os\n",
    "import folium\n",
    "from SITS import Csv2gdf, StacAttack, Labels\n",
    "import pandas as pd"
   ]
  },
  {
   "cell_type": "code",
   "execution_count": null,
   "id": "2ca1bfcf-a769-4d96-8e8f-08cbb4c23d03",
   "metadata": {
    "tags": []
   },
   "outputs": [],
   "source": [
    "with open('var.txt', 'r') as f:\n",
    "    input_tables = f.readlines()\n",
    "    input_tables = [line.strip() for line in input_tables]\n",
    "\n",
    "input_t1 = input_tables[0]\n",
    "#input_t2 = input_tables[1]"
   ]
  },
  {
   "cell_type": "code",
   "execution_count": null,
   "id": "7f4a7ccb-bf0a-42df-9ef5-8fa1b888e69a",
   "metadata": {
    "tags": []
   },
   "outputs": [],
   "source": [
    "test01 = Csv2gdf(input_t1, 'long', 'Lat', 4326, 'Id')\n",
    "#test02 = Csv2gdf(input_t2, 'longitude', 'latitude', 4326)\n",
    "#test02.table = test02.table.drop(test02.table[(test02.table['coord_X'] == 'NaN')].index)# & (test02.table['coord_Y'] == 'NaN')].index)\n",
    "#test02.table = test02.table[test02.table['coord_X'].notna() & test02.table['coord_Y'].notna()]"
   ]
  },
  {
   "cell_type": "code",
   "execution_count": null,
   "id": "e97c39b7-e9a0-4258-8307-5a2e8de402c6",
   "metadata": {
    "tags": []
   },
   "outputs": [],
   "source": [
    "test01.table.head()\n",
    "type(test01.table)\n",
    "print(isinstance(test01.table, pd.core.frame.DataFrame))"
   ]
  },
  {
   "cell_type": "code",
   "execution_count": null,
   "id": "8754da8e-2a08-4e2d-a244-b82140ddbec9",
   "metadata": {
    "tags": []
   },
   "outputs": [],
   "source": [
    "out_dir = 'output01'\n",
    "out_file = 'table01.geojson'\n",
    "\n",
    "if not os.path.exists(out_dir):\n",
    "    os.mkdir(out_dir)\n",
    "\n",
    "\n",
    "test01.set_gdf(3035, os.path.join(out_dir, out_file))"
   ]
  },
  {
   "cell_type": "code",
   "execution_count": null,
   "id": "d84da4de-6b54-490e-82f6-c3c0c284c827",
   "metadata": {
    "tags": []
   },
   "outputs": [],
   "source": [
    "test01.set_buffer('gdf', 75)\n",
    "test01.set_bbox('buffer')"
   ]
  },
  {
   "cell_type": "code",
   "execution_count": null,
   "id": "3384edab-5098-4d8f-bbb2-6c22dd2d4a98",
   "metadata": {},
   "outputs": [],
   "source": [
    "test01.to_vector('gdf', os.path.join(out_dir, 'gdf.geojson'))\n",
    "test01.to_vector('buffer', os.path.join(out_dir, 'buffer.geojson'))\n",
    "test01.to_vector('bbox', os.path.join(out_dir, 'bbox.geojson'))"
   ]
  },
  {
   "cell_type": "code",
   "execution_count": null,
   "id": "dc03d908-2885-42ad-979e-fc9e7168ca4f",
   "metadata": {
    "tags": []
   },
   "outputs": [],
   "source": [
    "f = folium.Figure(height=400)\n",
    "m = folium.Map(location=[55, 0], zoom_start=3).add_to(f)\n",
    "test01.bbox.explore(m=m, height=400, color='green')\n",
    "test01.buffer.explore(m=m, height=400)\n",
    "test01.gdf.explore(m=m, height=400, color='red')"
   ]
  },
  {
   "cell_type": "code",
   "execution_count": null,
   "id": "b5cc095a-08cd-40e7-910f-3d137d56197d",
   "metadata": {
    "tags": []
   },
   "outputs": [],
   "source": [
    "for index, row in test01.bbox.head(1).iterrows():\n",
    "    gid = test01.bbox.loc[index, 'gid']\n",
    "    print(\"gid: \", gid)\n",
    "\n",
    "    row_geom = test01.bbox.loc[index, 'geometry']\n",
    "    row_geom_4326 = test01.bbox.to_crs(4326).loc[index, 'geometry']\n",
    "    aoi_bounds = list(row_geom.bounds)\n",
    "    print(aoi_bounds)\n",
    "    aoi_bounds_4326 = list(row_geom_4326.bounds)\n",
    "\n",
    "    imgs = StacAttack()\n",
    "    imgs.searchItems(aoi_bounds_4326)\n",
    "\n",
    "    imgs.loadPatches(aoi_bounds, 10, 10)\n",
    "    print('nbbox', imgs.newbbox)\n",
    "    imgs.loadImgs(aoi_bounds)\n",
    "    print('obbox', imgs.newbbox)\n",
    "    imgs.to_csv(out_dir, gid)\n",
    "    imgs.to_nc('patch', gid, out_dir)\n",
    "    imgs.to_nc('image', gid, out_dir)\n"
   ]
  },
  {
   "cell_type": "code",
   "execution_count": null,
   "id": "03c1f2f0-aca8-4055-b449-53fa9bfcf8b7",
   "metadata": {
    "tags": []
   },
   "outputs": [],
   "source": [
    "#type(test01.buffer)\n",
    "#test = Labels(test01.buffer)\n",
    "#test.to_raster(imgs.geobox, out_dir)\n",
    "\n",
    "test = Labels(\"/home/osekenj/data/github_proj/SITS_utils/data/ajeter.shp\")\n",
    "test.to_raster(\"id\", imgs.geobox, out_dir)\n"
   ]
  },
  {
   "cell_type": "code",
   "execution_count": null,
   "id": "d5a0a04a-99f1-478f-8558-71b0d5d09a1d",
   "metadata": {
    "tags": []
   },
   "outputs": [],
   "source": []
  }
 ],
 "metadata": {
  "kernelspec": {
   "display_name": "Python 3 (ipykernel)",
   "language": "python",
   "name": "python3"
  },
  "language_info": {
   "codemirror_mode": {
    "name": "ipython",
    "version": 3
   },
   "file_extension": ".py",
   "mimetype": "text/x-python",
   "name": "python",
   "nbconvert_exporter": "python",
   "pygments_lexer": "ipython3",
   "version": "3.11.5"
  }
 },
 "nbformat": 4,
 "nbformat_minor": 5
}
