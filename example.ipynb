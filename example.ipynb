{
 "cells": [
  {
   "cell_type": "code",
   "execution_count": null,
   "id": "95cd620d-35f3-4633-823a-37566775bd7c",
   "metadata": {
    "tags": []
   },
   "outputs": [],
   "source": [
    "#!pip install matplotlib\n",
    "#!pip install mapclassify"
   ]
  },
  {
   "cell_type": "code",
   "execution_count": null,
   "id": "19838d84-0719-4003-ab6e-bce1f6c05d4e",
   "metadata": {
    "tags": []
   },
   "outputs": [],
   "source": [
    "import os\n",
    "import folium\n",
    "from SITS import Csv2gdf, StacAttack"
   ]
  },
  {
   "cell_type": "code",
   "execution_count": null,
   "id": "2ca1bfcf-a769-4d96-8e8f-08cbb4c23d03",
   "metadata": {
    "tags": []
   },
   "outputs": [],
   "source": [
    "with open('var.txt', 'r') as f:\n",
    "    input02 = f.read()\n",
    "\n",
    "print(input02)"
   ]
  },
  {
   "cell_type": "code",
   "execution_count": null,
   "id": "7f4a7ccb-bf0a-42df-9ef5-8fa1b888e69a",
   "metadata": {
    "tags": []
   },
   "outputs": [],
   "source": [
    "test02 = Csv2gdf(input02, 'Id', 'long', 'Lat', 4326)"
   ]
  },
  {
   "cell_type": "code",
   "execution_count": null,
   "id": "e97c39b7-e9a0-4258-8307-5a2e8de402c6",
   "metadata": {
    "tags": []
   },
   "outputs": [],
   "source": [
    "test02.table.head()"
   ]
  },
  {
   "cell_type": "code",
   "execution_count": null,
   "id": "8754da8e-2a08-4e2d-a244-b82140ddbec9",
   "metadata": {
    "tags": []
   },
   "outputs": [],
   "source": [
    "if not os.path.exists('output'):\n",
    "    os.mkdir('output')\n",
    "\n",
    "out_file = 'table02.geojson'\n",
    "test02.set_gdf(3035, os.path.join('output', out_file))"
   ]
  },
  {
   "cell_type": "code",
   "execution_count": null,
   "id": "d84da4de-6b54-490e-82f6-c3c0c284c827",
   "metadata": {
    "tags": []
   },
   "outputs": [],
   "source": [
    "test02.set_buffer('gdf', 75)\n",
    "test02.set_bbox('buffer')"
   ]
  },
  {
   "cell_type": "code",
   "execution_count": null,
   "id": "3384edab-5098-4d8f-bbb2-6c22dd2d4a98",
   "metadata": {},
   "outputs": [],
   "source": [
    "test02.to_vector('gdf', os.path.join('output', 'gdf.geojson'))\n",
    "test02.to_vector('buffer', os.path.join('output', 'buffer.geojson'))\n",
    "test02.to_vector('bbox', os.path.join('output', 'bbox.geojson'))"
   ]
  },
  {
   "cell_type": "code",
   "execution_count": null,
   "id": "dc03d908-2885-42ad-979e-fc9e7168ca4f",
   "metadata": {
    "tags": []
   },
   "outputs": [],
   "source": [
    "f = folium.Figure(height=400)\n",
    "m = folium.Map(location=[55, 0], zoom_start=3).add_to(f)\n",
    "test02.bbox.explore(m=m, height=400, color='green')\n",
    "test02.buffer.explore(m=m, height=400)\n",
    "test02.gdf.explore(m=m, height=400, color='red')"
   ]
  },
  {
   "cell_type": "code",
   "execution_count": null,
   "id": "b5cc095a-08cd-40e7-910f-3d137d56197d",
   "metadata": {
    "tags": []
   },
   "outputs": [],
   "source": [
    "for index, row in test02.bbox.iterrows():\n",
    "    gid = test02.bbox.loc[index, 'gid']\n",
    "    print(\"gid: \", gid)\n",
    "\n",
    "    row_geom = test02.bbox.loc[index, 'geometry']\n",
    "    row_geom_4326 = test02.bbox.to_crs(4326).loc[index, 'geometry']\n",
    "    aoi_bounds = list(row_geom.bounds)\n",
    "    aoi_bounds_4326 = list(row_geom_4326.bounds)\n",
    "\n",
    "    imgs = StacAttack()\n",
    "    imgs.searchItems(aoi_bounds_4326)\n",
    "    print(len(imgs.items))\n",
    "    #imgs.loadImgs(aoi_bounds)\n",
    "    #imgs.to_csv(gid, 'output')\n",
    "    #imgs.to_nc(gid, 'output')\n"
   ]
  },
  {
   "cell_type": "code",
   "execution_count": null,
   "id": "a840ee91-6f67-4fdd-9677-cab0475dd218",
   "metadata": {},
   "outputs": [],
   "source": []
  }
 ],
 "metadata": {
  "kernelspec": {
   "display_name": "Python 3 (ipykernel)",
   "language": "python",
   "name": "python3"
  },
  "language_info": {
   "codemirror_mode": {
    "name": "ipython",
    "version": 3
   },
   "file_extension": ".py",
   "mimetype": "text/x-python",
   "name": "python",
   "nbconvert_exporter": "python",
   "pygments_lexer": "ipython3",
   "version": "3.11.5"
  }
 },
 "nbformat": 4,
 "nbformat_minor": 5
}
